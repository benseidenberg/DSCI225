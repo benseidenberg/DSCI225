{
 "cells": [
  {
   "cell_type": "markdown",
   "metadata": {},
   "source": [
    "First, let's import a few common modules, ensure MatplotLib plots figures inline and prepare a function to save the figures. We also check that Python 3.5 or later is installed as well as Scikit-Learn ≥0.20."
   ]
  },
  {
   "cell_type": "markdown",
   "metadata": {},
   "source": [
    "from sklearn.model_selection import cross_val_score"
   ]
  },
  {
   "cell_type": "code",
   "execution_count": 1,
   "metadata": {},
   "outputs": [],
   "source": [
    "# Python ≥3.5 is required\n",
    "import sys\n",
    "assert sys.version_info >= (3, 5)\n",
    "\n",
    "# Scikit-Learn ≥0.20 is required\n",
    "import sklearn\n",
    "assert sklearn.__version__ >= \"0.20\"\n",
    "\n",
    "from sklearn.linear_model import SGDClassifier\n",
    "from sklearn.model_selection import cross_val_score\n",
    "\n",
    "\n",
    "# Common imports\n",
    "import numpy as np\n",
    "import os\n",
    "\n",
    "# to make this notebook's output stable across runs\n",
    "np.random.seed(42)\n",
    "\n",
    "# To plot pretty figures\n",
    "%matplotlib inline\n",
    "import matplotlib as mpl\n",
    "import matplotlib.pyplot as plt\n",
    "mpl.rc('axes', labelsize=14)\n",
    "mpl.rc('xtick', labelsize=12)\n",
    "mpl.rc('ytick', labelsize=12)\n",
    "\n",
    "# Where to save the figures\n",
    "PROJECT_ROOT_DIR = \".\"\n",
    "CHAPTER_ID = \"classification\"\n",
    "IMAGES_PATH = os.path.join(PROJECT_ROOT_DIR, \"images\", CHAPTER_ID)\n",
    "os.makedirs(IMAGES_PATH, exist_ok=True)\n",
    "\n",
    "def save_fig(fig_id, tight_layout=True, fig_extension=\"png\", resolution=300):\n",
    "    path = os.path.join(IMAGES_PATH, fig_id + \".\" + fig_extension)\n",
    "    print(\"Saving figure\", fig_id)\n",
    "    if tight_layout:\n",
    "        plt.tight_layout()\n",
    "    plt.savefig(path, format=fig_extension, dpi=resolution)"
   ]
  },
  {
   "cell_type": "markdown",
   "metadata": {},
   "source": [
    "# Timing code\n",
    "\n",
    "(borrowed from https://stackoverflow.com/questions/7370801/measure-time-elapsed-in-python)"
   ]
  },
  {
   "cell_type": "code",
   "execution_count": 2,
   "metadata": {},
   "outputs": [],
   "source": [
    "from contextlib import contextmanager\n",
    "from timeit import default_timer\n",
    "\n",
    "@contextmanager\n",
    "def elapsed_timer():\n",
    "    start = default_timer()\n",
    "    elapser = lambda: default_timer() - start\n",
    "    yield lambda: elapser()\n",
    "    end = default_timer()\n",
    "    elapser = lambda: end-start\n",
    "    \n"
   ]
  },
  {
   "cell_type": "code",
   "execution_count": 3,
   "metadata": {},
   "outputs": [
    {
     "name": "stdout",
     "output_type": "stream",
     "text": [
      "0.06217270001070574\n",
      "0.12535200000274926\n"
     ]
    }
   ],
   "source": [
    "with elapsed_timer() as my_timer:\n",
    "    sum = 0\n",
    "    for x in range(1000000):\n",
    "        sum += x\n",
    "    print(my_timer())\n",
    "    for x in range(1000000):\n",
    "        sum += x\n",
    "     \n",
    "print(my_timer())"
   ]
  },
  {
   "cell_type": "markdown",
   "metadata": {},
   "source": [
    "# MNIST"
   ]
  },
  {
   "cell_type": "code",
   "execution_count": 4,
   "metadata": {},
   "outputs": [
    {
     "data": {
      "text/plain": [
       "dict_keys(['data', 'target', 'frame', 'categories', 'feature_names', 'target_names', 'DESCR', 'details', 'url'])"
      ]
     },
     "execution_count": 4,
     "metadata": {},
     "output_type": "execute_result"
    }
   ],
   "source": [
    "from sklearn.datasets import fetch_openml\n",
    "mnist = fetch_openml('mnist_784', version=1)\n",
    "mnist.keys()"
   ]
  },
  {
   "cell_type": "code",
   "execution_count": 5,
   "metadata": {},
   "outputs": [
    {
     "data": {
      "text/plain": [
       "(70000, 784)"
      ]
     },
     "execution_count": 5,
     "metadata": {},
     "output_type": "execute_result"
    }
   ],
   "source": [
    "X, y = mnist[\"data\"], mnist[\"target\"]\n",
    "X.shape"
   ]
  },
  {
   "cell_type": "code",
   "execution_count": 6,
   "metadata": {},
   "outputs": [],
   "source": [
    "y = y.astype(np.uint8)"
   ]
  },
  {
   "cell_type": "code",
   "execution_count": 7,
   "metadata": {},
   "outputs": [
    {
     "data": {
      "text/plain": [
       "(60000, 784)"
      ]
     },
     "execution_count": 7,
     "metadata": {},
     "output_type": "execute_result"
    }
   ],
   "source": [
    "X_train, X_test, y_train, y_test = X[:60000], X[60000:], y[:60000], y[60000:]\n",
    "some_digit = X.iloc[0]\n",
    "X_train.shape"
   ]
  },
  {
   "cell_type": "code",
   "execution_count": 8,
   "metadata": {
    "jupyter": {
     "outputs_hidden": false,
     "source_hidden": false
    },
    "nteract": {
     "transient": {
      "deleting": false
     }
    }
   },
   "outputs": [],
   "source": [
    "from sklearn.preprocessing import StandardScaler\n",
    "scaler = StandardScaler()\n",
    "X_train_scaled = scaler.fit_transform(X_train.astype(np.float64))\n",
    "X_test_scaled = scaler.transform(X_test.astype(np.float64))"
   ]
  },
  {
   "cell_type": "markdown",
   "metadata": {},
   "source": [
    "# Multiclass classification"
   ]
  },
  {
   "cell_type": "code",
   "execution_count": 9,
   "metadata": {},
   "outputs": [],
   "source": [
    "from sklearn.linear_model import SGDClassifier\n",
    "\n",
    "sgd_clf = SGDClassifier(max_iter=1000, tol=1e-3, random_state=42)"
   ]
  },
  {
   "cell_type": "code",
   "execution_count": 10,
   "metadata": {},
   "outputs": [
    {
     "data": {
      "text/plain": [
       "array([7], dtype=uint8)"
      ]
     },
     "execution_count": 10,
     "metadata": {},
     "output_type": "execute_result"
    }
   ],
   "source": [
    "from sklearn.svm import SVC\n",
    "\n",
    "svm_clf = SVC(gamma=\"auto\", random_state=42)\n",
    "svm_clf.fit(X_train_scaled[:1000], y_train[:1000]) \n",
    "svm_clf.predict([some_digit])\n"
   ]
  },
  {
   "cell_type": "code",
   "execution_count": 11,
   "metadata": {},
   "outputs": [
    {
     "data": {
      "text/plain": [
       "array([7], dtype=uint8)"
      ]
     },
     "execution_count": 11,
     "metadata": {},
     "output_type": "execute_result"
    }
   ],
   "source": [
    "from sklearn.multiclass import OneVsRestClassifier\n",
    "ovr_clf = OneVsRestClassifier(SVC(gamma=\"auto\", random_state=42))\n",
    "ovr_clf.fit(X_train_scaled[:1000], y_train[:1000])\n",
    "ovr_clf.predict([some_digit])"
   ]
  },
  {
   "cell_type": "code",
   "execution_count": 12,
   "metadata": {},
   "outputs": [
    {
     "data": {
      "text/plain": [
       "10"
      ]
     },
     "execution_count": 12,
     "metadata": {},
     "output_type": "execute_result"
    }
   ],
   "source": [
    "len(ovr_clf.estimators_)"
   ]
  },
  {
   "cell_type": "code",
   "execution_count": 13,
   "metadata": {},
   "outputs": [
    {
     "name": "stdout",
     "output_type": "stream",
     "text": [
      "sgd_clf.fit took 207.081 secs\n"
     ]
    },
    {
     "data": {
      "text/plain": [
       "array([3], dtype=uint8)"
      ]
     },
     "execution_count": 13,
     "metadata": {},
     "output_type": "execute_result"
    }
   ],
   "source": [
    "with elapsed_timer() as sgd_timer:\n",
    "    sgd_clf.fit(X_train_scaled, y_train)\n",
    "print(f\"sgd_clf.fit took {sgd_timer():.3f} secs\")  # 300 seconds on my laptop\n",
    "sgd_clf.predict([some_digit])"
   ]
  },
  {
   "cell_type": "markdown",
   "metadata": {},
   "source": [
    "213.051 secs (just in case)"
   ]
  },
  {
   "cell_type": "code",
   "execution_count": 14,
   "metadata": {},
   "outputs": [
    {
     "data": {
      "text/plain": [
       "array([[ -52074.00622961,  -90932.76755577,  -20253.71519718,\n",
       "          13700.40693397, -153621.49226805,   -4632.87432725,\n",
       "        -107360.91391427,  -90145.62086593,    -980.42911341,\n",
       "         -44100.09135652]])"
      ]
     },
     "execution_count": 14,
     "metadata": {},
     "output_type": "execute_result"
    }
   ],
   "source": [
    "sgd_clf.decision_function([some_digit])"
   ]
  },
  {
   "cell_type": "code",
   "execution_count": 15,
   "metadata": {},
   "outputs": [
    {
     "data": {
      "text/plain": [
       "array([0.8983, 0.891 , 0.9018])"
      ]
     },
     "execution_count": 15,
     "metadata": {},
     "output_type": "execute_result"
    }
   ],
   "source": [
    "# This involves training 3 models - it's going to take a while\n",
    "cross_val_score(sgd_clf, X_train_scaled, y_train, cv=3, scoring=\"accuracy\")"
   ]
  },
  {
   "cell_type": "markdown",
   "metadata": {},
   "source": [
    "took 7 mins 22 secs"
   ]
  },
  {
   "cell_type": "code",
   "execution_count": 16,
   "metadata": {},
   "outputs": [
    {
     "data": {
      "text/plain": [
       "0.8933"
      ]
     },
     "execution_count": 16,
     "metadata": {},
     "output_type": "execute_result"
    }
   ],
   "source": [
    "sgd_clf.score(X_test_scaled, y_test)"
   ]
  },
  {
   "cell_type": "code",
   "execution_count": 17,
   "metadata": {},
   "outputs": [
    {
     "data": {
      "text/plain": [
       "array([[ 937,    0,    0,    0,    0,    3,    4,    1,   35,    0],\n",
       "       [   0, 1083,    5,    1,    0,    3,    4,    0,   39,    0],\n",
       "       [   4,    3,  890,   14,    7,    2,   13,    6,   89,    4],\n",
       "       [   4,    0,   13,  874,    0,   20,    2,    7,   82,    8],\n",
       "       [   1,    0,    6,    0,  877,    1,    6,    4,   66,   21],\n",
       "       [   5,    2,    1,   31,    8,  716,   17,    7,   98,    7],\n",
       "       [  10,    2,   10,    0,    8,   13,  881,    1,   33,    0],\n",
       "       [   2,    2,   16,    5,    5,    1,    0,  924,   49,   24],\n",
       "       [   6,    4,    4,   15,    3,   24,    8,    1,  905,    4],\n",
       "       [   5,    5,    0,    6,   24,    4,    0,   21,   98,  846]])"
      ]
     },
     "execution_count": 17,
     "metadata": {},
     "output_type": "execute_result"
    }
   ],
   "source": [
    "from sklearn.metrics import confusion_matrix\n",
    "y_test_pred = sgd_clf.predict(X_test_scaled)\n",
    "conf_mx_test = confusion_matrix(y_test, y_test_pred)\n",
    "conf_mx_test"
   ]
  },
  {
   "cell_type": "code",
   "execution_count": 18,
   "metadata": {},
   "outputs": [
    {
     "name": "stdout",
     "output_type": "stream",
     "text": [
      "svm_clf.fit took 0.117 secs\n",
      "ovr_clf.fit took 0.294 secs\n",
      "svm_clf.fit took 0.314 secs\n",
      "ovr_clf.fit took 1.067 secs\n",
      "svm_clf.fit took 0.902 secs\n",
      "ovr_clf.fit took 6.032 secs\n",
      "svm_clf.fit took 4.133 secs\n",
      "ovr_clf.fit took 20.703 secs\n",
      "svm_clf.fit took 7.222 secs\n",
      "ovr_clf.fit took 31.144 secs\n"
     ]
    }
   ],
   "source": [
    "for size in [1000, 2000, 4000, 8000, 10000]: #20000]:\n",
    "    with elapsed_timer() as svm_timer:\n",
    "        svm_clf.fit(X_train_scaled[:size], y_train[:size])\n",
    "    print(f\"svm_clf.fit took {svm_timer():.3f} secs\")\n",
    "    with elapsed_timer() as ovr_timer:  # 300 seconds on my laptop\n",
    "        ovr_clf.fit(X_train_scaled[:size], y_train[:size])\n",
    "    print(f\"ovr_clf.fit took {ovr_timer():.3f} secs\")\n",
    "    #sgd_clf.predict([some_digit])"
   ]
  },
  {
   "cell_type": "code",
   "execution_count": 20,
   "metadata": {},
   "outputs": [
    {
     "data": {
      "text/plain": [
       "array([0.95965, 0.96005, 0.9608 ])"
      ]
     },
     "execution_count": 20,
     "metadata": {},
     "output_type": "execute_result"
    }
   ],
   "source": [
    "cross_val_score(svm_clf, X_train_scaled, y_train, cv=3, scoring=\"accuracy\") "
   ]
  },
  {
   "cell_type": "code",
   "execution_count": 21,
   "metadata": {},
   "outputs": [
    {
     "data": {
      "text/plain": [
       "array([0.9611, 0.9579, 0.9617])"
      ]
     },
     "execution_count": 21,
     "metadata": {},
     "output_type": "execute_result"
    }
   ],
   "source": [
    "cross_val_score(ovr_clf, X_train_scaled, y_train, cv=3, scoring=\"accuracy\") # oh boy"
   ]
  },
  {
   "cell_type": "markdown",
   "metadata": {},
   "source": [
    "svm: 10:03 (96%), ovr: 42:54 (96%)"
   ]
  },
  {
   "cell_type": "code",
   "execution_count": 22,
   "metadata": {},
   "outputs": [
    {
     "data": {
      "text/plain": [
       "array([-2.20501560e-02, -5.18380750e-02, -9.06597035e-02, -1.39667106e-01,\n",
       "       -1.97082121e-01, -2.64384728e-01, -3.40730442e-01, -4.22535749e-01,\n",
       "       -5.15408649e-01, -5.84660366e-01, -5.41363044e-01, -6.26156785e-01,\n",
       "       -6.69145031e-01,  3.43637162e-01,  5.31056017e-01,  1.10236573e+00,\n",
       "       -2.65802578e-01,  1.71565971e+00,  3.77344822e+00,  4.93900230e+00,\n",
       "        3.45006811e+00, -1.31080130e-01, -7.48460374e-02, -3.63656606e-02,\n",
       "       -7.90243079e-02, -1.33289086e-01, -1.99154411e-01, -2.75429691e-01,\n",
       "        8.82421166e-02, -1.60018965e-02,  4.42476487e-01,  8.18775057e-01,\n",
       "        7.49339511e-01,  1.32200212e+00,  1.19900231e+00,  1.14748071e+00,\n",
       "        1.16876765e+00,  1.25693737e+00,  1.17313576e+00,  9.33441548e-01,\n",
       "        2.13777179e+00,  2.64653072e+00,  2.81275280e+00,  1.14339095e+00,\n",
       "       -1.72939702e-01, -1.04104240e-01, -5.91585908e-02, -1.13004853e-01,\n",
       "       -1.78441525e-01, -2.58004810e-01,  4.14936751e-01,  2.55139991e+00,\n",
       "        2.15784271e+00,  1.76151117e+00,  1.47855282e+00,  1.28620376e+00,\n",
       "        1.15934214e+00,  1.08883060e+00,  1.06792169e+00,  1.08561216e+00,\n",
       "        1.12333034e+00, -1.85138147e-01, -1.08110686e-01,  1.20942182e-01,\n",
       "        1.04310652e-01,  1.53347815e-01, -2.87681279e-01, -1.97007025e-01,\n",
       "       -1.21228940e-01, -8.52488969e-02, -1.39458369e-01, -2.10883308e-01,\n",
       "       -3.00017977e-01, -1.59588571e-01,  1.95384078e+00,  1.84773395e+00,\n",
       "        1.51729633e+00,  1.30892138e+00,  1.20210616e+00,  1.16376234e+00,\n",
       "        6.74199715e-01,  5.38435658e-01,  1.12192712e+00,  1.07058610e+00,\n",
       "       -1.04378667e+00, -9.12978504e-01, -7.39191314e-01, -5.71005505e-01,\n",
       "       -4.23671002e-01, -2.98196207e-01, -1.97686135e-01, -1.20683815e-01,\n",
       "       -9.30784924e-02, -1.50398734e-01, -2.26191023e-01, -3.23645340e-01,\n",
       "       -4.42131217e-01,  2.70213751e-01,  7.45930827e-01,  7.23832933e-02,\n",
       "        1.27771203e+00,  1.27734539e+00,  9.12254680e-01, -8.07963349e-01,\n",
       "       -9.13935971e-01, -5.60996653e-01,  3.90063789e-01, -9.99486551e-01,\n",
       "       -9.01508612e-01, -7.36681516e-01, -5.67589421e-01, -4.20171899e-01,\n",
       "       -2.90174595e-01, -1.81482351e-01, -1.04939775e-01, -9.22058067e-02,\n",
       "       -1.47451700e-01, -2.27284588e-01, -3.32428316e-01, -4.62696158e-01,\n",
       "       -6.19033521e-01, -6.52626518e-01, -8.99148251e-01,  4.58886633e-01,\n",
       "        1.47356894e+00,  6.77134887e-02, -7.71412102e-01, -8.03560093e-01,\n",
       "       -8.73939297e-01, -9.51575414e-01, -9.62131065e-01, -8.63473259e-01,\n",
       "       -7.01324246e-01, -5.37396564e-01, -3.96771027e-01, -2.71222642e-01,\n",
       "       -1.59324464e-01, -8.12584087e-02, -8.20038362e-02, -1.37457285e-01,\n",
       "       -2.25181955e-01, -3.38492381e-01, -4.82934997e-01, -6.48288219e-01,\n",
       "       -8.09805311e-01, -8.96460461e-01,  4.05564687e-01,  1.64634567e+00,\n",
       "        1.16516320e+00, -7.21489008e-01, -8.02210470e-01, -9.01262815e-01,\n",
       "       -9.77722928e-01, -9.55547943e-01, -8.24902899e-01, -6.55987835e-01,\n",
       "       -4.99364187e-01, -3.69573309e-01, -2.58464407e-01, -1.49695715e-01,\n",
       "       -6.11113564e-02, -6.85820105e-02, -1.27368499e-01, -2.26143360e-01,\n",
       "       -3.52202906e-01, -5.07583513e-01, -6.79449640e-01, -8.28251048e-01,\n",
       "       -8.88830036e-01, -7.40225109e-01,  1.06068287e+00,  1.68492907e+00,\n",
       "       -1.77575688e-01, -9.17683490e-01, -1.02909594e+00, -1.05827900e+00,\n",
       "       -9.65674043e-01, -7.94476763e-01, -6.16749363e-01, -4.70072884e-01,\n",
       "       -3.55124414e-01, -2.55407545e-01, -1.53824513e-01, -5.24542821e-02,\n",
       "       -5.70730810e-02, -1.24662020e-01, -2.38498173e-01, -3.73258897e-01,\n",
       "       -5.33136068e-01, -7.02094140e-01, -8.37450050e-01, -8.80074249e-01,\n",
       "       -8.41014273e-01, -4.87694929e-01,  1.32485786e+00,  9.98375471e-01,\n",
       "        3.22814268e-01, -1.98337189e-01, -1.11994100e+00, -9.76070413e-01,\n",
       "       -7.75195395e-01, -5.94446605e-01, -4.60910238e-01, -3.55500546e-01,\n",
       "       -2.63549180e-01, -1.64503687e-01, -5.95130325e-02, -5.13394345e-02,\n",
       "       -1.29346397e-01, -2.57521393e-01, -3.95011330e-01, -5.50421723e-01,\n",
       "       -7.07323088e-01, -8.26049817e-01, -8.67853151e-01, -8.60743722e-01,\n",
       "       -9.04035680e-01, -3.08572618e-01,  9.64876914e-01,  1.03583353e+00,\n",
       "        1.05517267e+00, -8.08498334e-02, -7.38205686e-01, -7.63011316e-01,\n",
       "       -5.97027040e-01, -4.72019989e-01, -3.68370412e-01, -2.73325316e-01,\n",
       "       -1.73386634e-01, -6.89427199e-02, -5.32721237e-02, -1.40420517e-01,\n",
       "       -2.77180624e-01, -4.12209008e-01, -5.54003398e-01, -6.92005443e-01,\n",
       "       -7.92583140e-01, -8.41940836e-01, -8.69766983e-01, -9.58664347e-01,\n",
       "       -1.09410266e+00, -8.05303712e-01,  4.28897581e-01,  1.08836286e+00,\n",
       "        1.16827871e+00,  4.42989478e-01, -4.93267386e-01, -6.09787183e-01,\n",
       "       -4.86753939e-01, -3.80896777e-01, -2.78298890e-01, -1.75491552e-01,\n",
       "       -7.70261425e-02, -6.07076923e-02, -1.57022412e-01, -2.97163168e-01,\n",
       "       -4.22306798e-01, -5.45726707e-01, -6.59100289e-01, -7.41250552e-01,\n",
       "       -7.88379565e-01, -8.33967293e-01, -9.19413398e-01, -1.02595562e+00,\n",
       "       -1.12277551e+00, -1.00128625e+00, -2.50181723e-01,  1.26567434e+00,\n",
       "        1.45264065e+00,  1.05397980e+00, -6.15621643e-01, -4.93079765e-01,\n",
       "       -3.79874281e-01, -2.73517649e-01, -1.73539121e-01, -8.40501482e-02,\n",
       "       -7.39001757e-02, -1.77860047e-01, -3.13383430e-01, -4.29013061e-01,\n",
       "       -5.35088936e-01, -6.20781988e-01, -6.82689238e-01, -7.23470137e-01,\n",
       "       -7.65558979e-01, -8.25070425e-01, -9.19390235e-01, -1.00626013e+00,\n",
       "       -1.03281505e+00, -1.01067269e+00,  1.31519954e+00,  1.48115098e+00,\n",
       "        1.64560188e+00,  4.82880931e-02, -4.85156292e-01, -3.68041978e-01,\n",
       "       -2.60781824e-01, -1.68333757e-01, -8.85426370e-02, -9.13048630e-02,\n",
       "       -1.99108031e-01, -3.27967412e-01, -4.38995427e-01, -5.34454088e-01,\n",
       "       -6.05947897e-01, -6.59405094e-01, -6.97848366e-01, -7.30422894e-01,\n",
       "       -7.81125667e-01, -8.71688552e-01, -5.44696352e-01,  1.60415053e-01,\n",
       "        6.50220851e-01,  1.34279902e+00,  1.46193998e+00,  1.24594172e+00,\n",
       "       -5.73926496e-01, -4.63429150e-01, -3.48771144e-01, -2.45884747e-01,\n",
       "       -1.58200936e-01, -8.54379627e-02, -1.03852335e-01, -2.11980971e-01,\n",
       "       -3.37477889e-01, -4.51701933e-01, -5.52131610e-01, -6.31886475e-01,\n",
       "       -6.93224391e-01, -7.38384900e-01, -7.70730767e-01, -4.69506063e-01,\n",
       "        4.22382973e-01,  1.04567034e+00,  1.21745436e+00,  1.23935680e+00,\n",
       "        1.31032797e+00,  1.44686109e+00,  1.07419019e+00, -5.55385654e-01,\n",
       "       -4.27074606e-01, -3.16810480e-01, -2.20685803e-01, -1.41057264e-01,\n",
       "       -7.81710423e-02, -1.09167014e-01, -2.09032573e-01, -3.30224641e-01,\n",
       "       -4.54875266e-01, -5.69196807e-01, -6.72943600e-01, -7.60601226e-01,\n",
       "       -6.08747781e-01,  1.45933875e-01,  1.02756383e+00,  1.21554325e+00,\n",
       "        1.14867049e+00,  1.14592402e+00,  1.21167774e+00,  8.79504318e-01,\n",
       "       -5.51616072e-02, -6.26990956e-01, -4.88062775e-01, -3.68951144e-01,\n",
       "       -2.69292226e-01, -1.87212623e-01, -1.21627434e-01, -6.64938197e-02,\n",
       "       -9.99847079e-02, -1.88201724e-01, -2.99631312e-01, -4.27248469e-01,\n",
       "       -5.55251360e-01, -4.59112688e-01, -1.95242950e-01,  1.00790158e+00,\n",
       "        1.26095332e+00,  1.17394853e+00,  1.11115667e+00,  1.09552493e+00,\n",
       "        6.59061964e-01, -2.62412945e-01, -8.13628297e-01, -6.67125990e-01,\n",
       "       -5.22694492e-01, -3.99065428e-01, -2.96700643e-01, -2.12626224e-01,\n",
       "       -1.48693958e-01, -9.68957284e-02, -5.09310889e-02, -7.89724505e-02,\n",
       "       -1.47741377e-01, -2.43250250e-01, -8.30458387e-02,  1.56042653e+00,\n",
       "        1.61327333e+00,  1.60667106e+00,  1.37992544e+00,  1.23963346e+00,\n",
       "        1.16030302e+00,  6.21560395e-01, -3.61925123e-01, -8.82206990e-01,\n",
       "       -8.17668173e-01, -6.64655910e-01, -5.23595080e-01, -4.02142028e-01,\n",
       "       -3.03069160e-01, -2.21680844e-01, -1.59365935e-01, -1.10060699e-01,\n",
       "       -7.00397650e-02, -3.71356228e-02, -5.19053972e-02,  3.07386858e+00,\n",
       "        5.60859323e+00,  4.62960950e+00,  3.53861155e+00,  2.59001419e+00,\n",
       "        2.02823973e+00,  1.68064378e+00,  1.39229082e+00,  3.01200685e-01,\n",
       "       -7.99993648e-01, -8.39748579e-01, -7.34655534e-01, -6.12575711e-01,\n",
       "       -4.92071188e-01, -3.79928167e-01, -2.88817393e-01, -2.13440937e-01,\n",
       "       -1.53667782e-01, -1.09126008e-01, -7.40987562e-02, -4.33171851e-02,\n",
       "       -1.93437920e-02, -2.87501024e-02,  1.43442321e+01,  1.49676659e+01,\n",
       "        9.09224842e+00,  5.95866001e+00,  3.52099754e+00,  1.54840932e+00,\n",
       "        1.15868445e+00, -3.51803603e-01, -5.66505989e-01, -5.62783656e-01,\n",
       "       -5.27164696e-01, -4.68057397e-01, -3.95805045e-01, -3.24789446e-01,\n",
       "       -2.55705032e-01, -1.94611712e-01, -1.44574205e-01, -1.01773543e-01,\n",
       "       -7.14252227e-02, -4.77777569e-02, -2.57524359e-02, -1.13794237e-02])"
      ]
     },
     "execution_count": 22,
     "metadata": {},
     "output_type": "execute_result"
    }
   ],
   "source": [
    "train_reshaped = X_train_scaled.reshape(60000, 28, 28)\n",
    "cropped_reshape = train_reshaped[:, 5:25, 3:26] # based on the pixel importance plot in book\n",
    "cropped_reshape[0]\n",
    "train_cropped = cropped_reshape.reshape(60000, 460)\n",
    "train_cropped[0]"
   ]
  },
  {
   "cell_type": "code",
   "execution_count": 23,
   "metadata": {},
   "outputs": [
    {
     "name": "stdout",
     "output_type": "stream",
     "text": [
      "svm_clf.fit took 0.094 secs\n",
      "ovr_clf.fit took 0.205 secs\n",
      "svm_clf.fit took 0.238 secs\n",
      "ovr_clf.fit took 0.653 secs\n",
      "svm_clf.fit took 0.860 secs\n",
      "ovr_clf.fit took 2.690 secs\n",
      "svm_clf.fit took 2.131 secs\n",
      "ovr_clf.fit took 12.863 secs\n",
      "svm_clf.fit took 3.784 secs\n",
      "ovr_clf.fit took 19.249 secs\n"
     ]
    }
   ],
   "source": [
    "for size in [1000, 2000, 4000, 8000, 10000]: #20000]:\n",
    "    with elapsed_timer() as svm_timer:\n",
    "        svm_clf.fit(train_cropped[:size], y_train[:size])\n",
    "    print(f\"svm_clf.fit took {svm_timer():.3f} secs\")\n",
    "    with elapsed_timer() as ovr_timer:  # 300 seconds on my laptop\n",
    "        ovr_clf.fit(train_cropped[:size], y_train[:size])\n",
    "    print(f\"ovr_clf.fit took {ovr_timer():.3f} secs\")\n",
    "    #sgd_clf.predict([some_digit])"
   ]
  },
  {
   "cell_type": "code",
   "execution_count": 24,
   "metadata": {},
   "outputs": [
    {
     "data": {
      "text/plain": [
       "array([0.8686 , 0.86705, 0.8751 ])"
      ]
     },
     "execution_count": 24,
     "metadata": {},
     "output_type": "execute_result"
    }
   ],
   "source": [
    "cross_val_score(sgd_clf, train_cropped, y_train, cv=3, scoring=\"accuracy\") "
   ]
  },
  {
   "cell_type": "code",
   "execution_count": 25,
   "metadata": {},
   "outputs": [
    {
     "data": {
      "text/plain": [
       "array([0.96995, 0.968  , 0.9685 ])"
      ]
     },
     "execution_count": 25,
     "metadata": {},
     "output_type": "execute_result"
    }
   ],
   "source": [
    "cross_val_score(svm_clf, train_cropped, y_train, cv=3, scoring=\"accuracy\")"
   ]
  },
  {
   "cell_type": "code",
   "execution_count": 26,
   "metadata": {},
   "outputs": [
    {
     "data": {
      "text/plain": [
       "array([0.9721 , 0.96855, 0.9698 ])"
      ]
     },
     "execution_count": 26,
     "metadata": {},
     "output_type": "execute_result"
    }
   ],
   "source": [
    "cross_val_score(ovr_clf, train_cropped, y_train, cv=3, scoring=\"accuracy\")"
   ]
  },
  {
   "cell_type": "markdown",
   "metadata": {},
   "source": [
    "sgd: 4:27 (87%), svm: 6:28 (96%) & ovr: 26:40 (96%)"
   ]
  },
  {
   "cell_type": "markdown",
   "metadata": {},
   "source": [
    "Pixel Importance Code From Book:"
   ]
  },
  {
   "cell_type": "code",
   "execution_count": 27,
   "metadata": {},
   "outputs": [],
   "source": [
    "from sklearn.datasets import fetch_openml\n",
    "from sklearn.ensemble import RandomForestClassifier\n",
    "\n",
    "mnist = fetch_openml('mnist_784', version=1, as_frame=False)\n",
    "mnist.target = mnist.target.astype(np.uint8)"
   ]
  },
  {
   "cell_type": "code",
   "execution_count": 28,
   "metadata": {},
   "outputs": [
    {
     "data": {
      "text/html": [
       "<style>#sk-container-id-1 {\n",
       "  /* Definition of color scheme common for light and dark mode */\n",
       "  --sklearn-color-text: #000;\n",
       "  --sklearn-color-text-muted: #666;\n",
       "  --sklearn-color-line: gray;\n",
       "  /* Definition of color scheme for unfitted estimators */\n",
       "  --sklearn-color-unfitted-level-0: #fff5e6;\n",
       "  --sklearn-color-unfitted-level-1: #f6e4d2;\n",
       "  --sklearn-color-unfitted-level-2: #ffe0b3;\n",
       "  --sklearn-color-unfitted-level-3: chocolate;\n",
       "  /* Definition of color scheme for fitted estimators */\n",
       "  --sklearn-color-fitted-level-0: #f0f8ff;\n",
       "  --sklearn-color-fitted-level-1: #d4ebff;\n",
       "  --sklearn-color-fitted-level-2: #b3dbfd;\n",
       "  --sklearn-color-fitted-level-3: cornflowerblue;\n",
       "\n",
       "  /* Specific color for light theme */\n",
       "  --sklearn-color-text-on-default-background: var(--sg-text-color, var(--theme-code-foreground, var(--jp-content-font-color1, black)));\n",
       "  --sklearn-color-background: var(--sg-background-color, var(--theme-background, var(--jp-layout-color0, white)));\n",
       "  --sklearn-color-border-box: var(--sg-text-color, var(--theme-code-foreground, var(--jp-content-font-color1, black)));\n",
       "  --sklearn-color-icon: #696969;\n",
       "\n",
       "  @media (prefers-color-scheme: dark) {\n",
       "    /* Redefinition of color scheme for dark theme */\n",
       "    --sklearn-color-text-on-default-background: var(--sg-text-color, var(--theme-code-foreground, var(--jp-content-font-color1, white)));\n",
       "    --sklearn-color-background: var(--sg-background-color, var(--theme-background, var(--jp-layout-color0, #111)));\n",
       "    --sklearn-color-border-box: var(--sg-text-color, var(--theme-code-foreground, var(--jp-content-font-color1, white)));\n",
       "    --sklearn-color-icon: #878787;\n",
       "  }\n",
       "}\n",
       "\n",
       "#sk-container-id-1 {\n",
       "  color: var(--sklearn-color-text);\n",
       "}\n",
       "\n",
       "#sk-container-id-1 pre {\n",
       "  padding: 0;\n",
       "}\n",
       "\n",
       "#sk-container-id-1 input.sk-hidden--visually {\n",
       "  border: 0;\n",
       "  clip: rect(1px 1px 1px 1px);\n",
       "  clip: rect(1px, 1px, 1px, 1px);\n",
       "  height: 1px;\n",
       "  margin: -1px;\n",
       "  overflow: hidden;\n",
       "  padding: 0;\n",
       "  position: absolute;\n",
       "  width: 1px;\n",
       "}\n",
       "\n",
       "#sk-container-id-1 div.sk-dashed-wrapped {\n",
       "  border: 1px dashed var(--sklearn-color-line);\n",
       "  margin: 0 0.4em 0.5em 0.4em;\n",
       "  box-sizing: border-box;\n",
       "  padding-bottom: 0.4em;\n",
       "  background-color: var(--sklearn-color-background);\n",
       "}\n",
       "\n",
       "#sk-container-id-1 div.sk-container {\n",
       "  /* jupyter's `normalize.less` sets `[hidden] { display: none; }`\n",
       "     but bootstrap.min.css set `[hidden] { display: none !important; }`\n",
       "     so we also need the `!important` here to be able to override the\n",
       "     default hidden behavior on the sphinx rendered scikit-learn.org.\n",
       "     See: https://github.com/scikit-learn/scikit-learn/issues/21755 */\n",
       "  display: inline-block !important;\n",
       "  position: relative;\n",
       "}\n",
       "\n",
       "#sk-container-id-1 div.sk-text-repr-fallback {\n",
       "  display: none;\n",
       "}\n",
       "\n",
       "div.sk-parallel-item,\n",
       "div.sk-serial,\n",
       "div.sk-item {\n",
       "  /* draw centered vertical line to link estimators */\n",
       "  background-image: linear-gradient(var(--sklearn-color-text-on-default-background), var(--sklearn-color-text-on-default-background));\n",
       "  background-size: 2px 100%;\n",
       "  background-repeat: no-repeat;\n",
       "  background-position: center center;\n",
       "}\n",
       "\n",
       "/* Parallel-specific style estimator block */\n",
       "\n",
       "#sk-container-id-1 div.sk-parallel-item::after {\n",
       "  content: \"\";\n",
       "  width: 100%;\n",
       "  border-bottom: 2px solid var(--sklearn-color-text-on-default-background);\n",
       "  flex-grow: 1;\n",
       "}\n",
       "\n",
       "#sk-container-id-1 div.sk-parallel {\n",
       "  display: flex;\n",
       "  align-items: stretch;\n",
       "  justify-content: center;\n",
       "  background-color: var(--sklearn-color-background);\n",
       "  position: relative;\n",
       "}\n",
       "\n",
       "#sk-container-id-1 div.sk-parallel-item {\n",
       "  display: flex;\n",
       "  flex-direction: column;\n",
       "}\n",
       "\n",
       "#sk-container-id-1 div.sk-parallel-item:first-child::after {\n",
       "  align-self: flex-end;\n",
       "  width: 50%;\n",
       "}\n",
       "\n",
       "#sk-container-id-1 div.sk-parallel-item:last-child::after {\n",
       "  align-self: flex-start;\n",
       "  width: 50%;\n",
       "}\n",
       "\n",
       "#sk-container-id-1 div.sk-parallel-item:only-child::after {\n",
       "  width: 0;\n",
       "}\n",
       "\n",
       "/* Serial-specific style estimator block */\n",
       "\n",
       "#sk-container-id-1 div.sk-serial {\n",
       "  display: flex;\n",
       "  flex-direction: column;\n",
       "  align-items: center;\n",
       "  background-color: var(--sklearn-color-background);\n",
       "  padding-right: 1em;\n",
       "  padding-left: 1em;\n",
       "}\n",
       "\n",
       "\n",
       "/* Toggleable style: style used for estimator/Pipeline/ColumnTransformer box that is\n",
       "clickable and can be expanded/collapsed.\n",
       "- Pipeline and ColumnTransformer use this feature and define the default style\n",
       "- Estimators will overwrite some part of the style using the `sk-estimator` class\n",
       "*/\n",
       "\n",
       "/* Pipeline and ColumnTransformer style (default) */\n",
       "\n",
       "#sk-container-id-1 div.sk-toggleable {\n",
       "  /* Default theme specific background. It is overwritten whether we have a\n",
       "  specific estimator or a Pipeline/ColumnTransformer */\n",
       "  background-color: var(--sklearn-color-background);\n",
       "}\n",
       "\n",
       "/* Toggleable label */\n",
       "#sk-container-id-1 label.sk-toggleable__label {\n",
       "  cursor: pointer;\n",
       "  display: flex;\n",
       "  width: 100%;\n",
       "  margin-bottom: 0;\n",
       "  padding: 0.5em;\n",
       "  box-sizing: border-box;\n",
       "  text-align: center;\n",
       "  align-items: start;\n",
       "  justify-content: space-between;\n",
       "  gap: 0.5em;\n",
       "}\n",
       "\n",
       "#sk-container-id-1 label.sk-toggleable__label .caption {\n",
       "  font-size: 0.6rem;\n",
       "  font-weight: lighter;\n",
       "  color: var(--sklearn-color-text-muted);\n",
       "}\n",
       "\n",
       "#sk-container-id-1 label.sk-toggleable__label-arrow:before {\n",
       "  /* Arrow on the left of the label */\n",
       "  content: \"▸\";\n",
       "  float: left;\n",
       "  margin-right: 0.25em;\n",
       "  color: var(--sklearn-color-icon);\n",
       "}\n",
       "\n",
       "#sk-container-id-1 label.sk-toggleable__label-arrow:hover:before {\n",
       "  color: var(--sklearn-color-text);\n",
       "}\n",
       "\n",
       "/* Toggleable content - dropdown */\n",
       "\n",
       "#sk-container-id-1 div.sk-toggleable__content {\n",
       "  max-height: 0;\n",
       "  max-width: 0;\n",
       "  overflow: hidden;\n",
       "  text-align: left;\n",
       "  /* unfitted */\n",
       "  background-color: var(--sklearn-color-unfitted-level-0);\n",
       "}\n",
       "\n",
       "#sk-container-id-1 div.sk-toggleable__content.fitted {\n",
       "  /* fitted */\n",
       "  background-color: var(--sklearn-color-fitted-level-0);\n",
       "}\n",
       "\n",
       "#sk-container-id-1 div.sk-toggleable__content pre {\n",
       "  margin: 0.2em;\n",
       "  border-radius: 0.25em;\n",
       "  color: var(--sklearn-color-text);\n",
       "  /* unfitted */\n",
       "  background-color: var(--sklearn-color-unfitted-level-0);\n",
       "}\n",
       "\n",
       "#sk-container-id-1 div.sk-toggleable__content.fitted pre {\n",
       "  /* unfitted */\n",
       "  background-color: var(--sklearn-color-fitted-level-0);\n",
       "}\n",
       "\n",
       "#sk-container-id-1 input.sk-toggleable__control:checked~div.sk-toggleable__content {\n",
       "  /* Expand drop-down */\n",
       "  max-height: 200px;\n",
       "  max-width: 100%;\n",
       "  overflow: auto;\n",
       "}\n",
       "\n",
       "#sk-container-id-1 input.sk-toggleable__control:checked~label.sk-toggleable__label-arrow:before {\n",
       "  content: \"▾\";\n",
       "}\n",
       "\n",
       "/* Pipeline/ColumnTransformer-specific style */\n",
       "\n",
       "#sk-container-id-1 div.sk-label input.sk-toggleable__control:checked~label.sk-toggleable__label {\n",
       "  color: var(--sklearn-color-text);\n",
       "  background-color: var(--sklearn-color-unfitted-level-2);\n",
       "}\n",
       "\n",
       "#sk-container-id-1 div.sk-label.fitted input.sk-toggleable__control:checked~label.sk-toggleable__label {\n",
       "  background-color: var(--sklearn-color-fitted-level-2);\n",
       "}\n",
       "\n",
       "/* Estimator-specific style */\n",
       "\n",
       "/* Colorize estimator box */\n",
       "#sk-container-id-1 div.sk-estimator input.sk-toggleable__control:checked~label.sk-toggleable__label {\n",
       "  /* unfitted */\n",
       "  background-color: var(--sklearn-color-unfitted-level-2);\n",
       "}\n",
       "\n",
       "#sk-container-id-1 div.sk-estimator.fitted input.sk-toggleable__control:checked~label.sk-toggleable__label {\n",
       "  /* fitted */\n",
       "  background-color: var(--sklearn-color-fitted-level-2);\n",
       "}\n",
       "\n",
       "#sk-container-id-1 div.sk-label label.sk-toggleable__label,\n",
       "#sk-container-id-1 div.sk-label label {\n",
       "  /* The background is the default theme color */\n",
       "  color: var(--sklearn-color-text-on-default-background);\n",
       "}\n",
       "\n",
       "/* On hover, darken the color of the background */\n",
       "#sk-container-id-1 div.sk-label:hover label.sk-toggleable__label {\n",
       "  color: var(--sklearn-color-text);\n",
       "  background-color: var(--sklearn-color-unfitted-level-2);\n",
       "}\n",
       "\n",
       "/* Label box, darken color on hover, fitted */\n",
       "#sk-container-id-1 div.sk-label.fitted:hover label.sk-toggleable__label.fitted {\n",
       "  color: var(--sklearn-color-text);\n",
       "  background-color: var(--sklearn-color-fitted-level-2);\n",
       "}\n",
       "\n",
       "/* Estimator label */\n",
       "\n",
       "#sk-container-id-1 div.sk-label label {\n",
       "  font-family: monospace;\n",
       "  font-weight: bold;\n",
       "  display: inline-block;\n",
       "  line-height: 1.2em;\n",
       "}\n",
       "\n",
       "#sk-container-id-1 div.sk-label-container {\n",
       "  text-align: center;\n",
       "}\n",
       "\n",
       "/* Estimator-specific */\n",
       "#sk-container-id-1 div.sk-estimator {\n",
       "  font-family: monospace;\n",
       "  border: 1px dotted var(--sklearn-color-border-box);\n",
       "  border-radius: 0.25em;\n",
       "  box-sizing: border-box;\n",
       "  margin-bottom: 0.5em;\n",
       "  /* unfitted */\n",
       "  background-color: var(--sklearn-color-unfitted-level-0);\n",
       "}\n",
       "\n",
       "#sk-container-id-1 div.sk-estimator.fitted {\n",
       "  /* fitted */\n",
       "  background-color: var(--sklearn-color-fitted-level-0);\n",
       "}\n",
       "\n",
       "/* on hover */\n",
       "#sk-container-id-1 div.sk-estimator:hover {\n",
       "  /* unfitted */\n",
       "  background-color: var(--sklearn-color-unfitted-level-2);\n",
       "}\n",
       "\n",
       "#sk-container-id-1 div.sk-estimator.fitted:hover {\n",
       "  /* fitted */\n",
       "  background-color: var(--sklearn-color-fitted-level-2);\n",
       "}\n",
       "\n",
       "/* Specification for estimator info (e.g. \"i\" and \"?\") */\n",
       "\n",
       "/* Common style for \"i\" and \"?\" */\n",
       "\n",
       ".sk-estimator-doc-link,\n",
       "a:link.sk-estimator-doc-link,\n",
       "a:visited.sk-estimator-doc-link {\n",
       "  float: right;\n",
       "  font-size: smaller;\n",
       "  line-height: 1em;\n",
       "  font-family: monospace;\n",
       "  background-color: var(--sklearn-color-background);\n",
       "  border-radius: 1em;\n",
       "  height: 1em;\n",
       "  width: 1em;\n",
       "  text-decoration: none !important;\n",
       "  margin-left: 0.5em;\n",
       "  text-align: center;\n",
       "  /* unfitted */\n",
       "  border: var(--sklearn-color-unfitted-level-1) 1pt solid;\n",
       "  color: var(--sklearn-color-unfitted-level-1);\n",
       "}\n",
       "\n",
       ".sk-estimator-doc-link.fitted,\n",
       "a:link.sk-estimator-doc-link.fitted,\n",
       "a:visited.sk-estimator-doc-link.fitted {\n",
       "  /* fitted */\n",
       "  border: var(--sklearn-color-fitted-level-1) 1pt solid;\n",
       "  color: var(--sklearn-color-fitted-level-1);\n",
       "}\n",
       "\n",
       "/* On hover */\n",
       "div.sk-estimator:hover .sk-estimator-doc-link:hover,\n",
       ".sk-estimator-doc-link:hover,\n",
       "div.sk-label-container:hover .sk-estimator-doc-link:hover,\n",
       ".sk-estimator-doc-link:hover {\n",
       "  /* unfitted */\n",
       "  background-color: var(--sklearn-color-unfitted-level-3);\n",
       "  color: var(--sklearn-color-background);\n",
       "  text-decoration: none;\n",
       "}\n",
       "\n",
       "div.sk-estimator.fitted:hover .sk-estimator-doc-link.fitted:hover,\n",
       ".sk-estimator-doc-link.fitted:hover,\n",
       "div.sk-label-container:hover .sk-estimator-doc-link.fitted:hover,\n",
       ".sk-estimator-doc-link.fitted:hover {\n",
       "  /* fitted */\n",
       "  background-color: var(--sklearn-color-fitted-level-3);\n",
       "  color: var(--sklearn-color-background);\n",
       "  text-decoration: none;\n",
       "}\n",
       "\n",
       "/* Span, style for the box shown on hovering the info icon */\n",
       ".sk-estimator-doc-link span {\n",
       "  display: none;\n",
       "  z-index: 9999;\n",
       "  position: relative;\n",
       "  font-weight: normal;\n",
       "  right: .2ex;\n",
       "  padding: .5ex;\n",
       "  margin: .5ex;\n",
       "  width: min-content;\n",
       "  min-width: 20ex;\n",
       "  max-width: 50ex;\n",
       "  color: var(--sklearn-color-text);\n",
       "  box-shadow: 2pt 2pt 4pt #999;\n",
       "  /* unfitted */\n",
       "  background: var(--sklearn-color-unfitted-level-0);\n",
       "  border: .5pt solid var(--sklearn-color-unfitted-level-3);\n",
       "}\n",
       "\n",
       ".sk-estimator-doc-link.fitted span {\n",
       "  /* fitted */\n",
       "  background: var(--sklearn-color-fitted-level-0);\n",
       "  border: var(--sklearn-color-fitted-level-3);\n",
       "}\n",
       "\n",
       ".sk-estimator-doc-link:hover span {\n",
       "  display: block;\n",
       "}\n",
       "\n",
       "/* \"?\"-specific style due to the `<a>` HTML tag */\n",
       "\n",
       "#sk-container-id-1 a.estimator_doc_link {\n",
       "  float: right;\n",
       "  font-size: 1rem;\n",
       "  line-height: 1em;\n",
       "  font-family: monospace;\n",
       "  background-color: var(--sklearn-color-background);\n",
       "  border-radius: 1rem;\n",
       "  height: 1rem;\n",
       "  width: 1rem;\n",
       "  text-decoration: none;\n",
       "  /* unfitted */\n",
       "  color: var(--sklearn-color-unfitted-level-1);\n",
       "  border: var(--sklearn-color-unfitted-level-1) 1pt solid;\n",
       "}\n",
       "\n",
       "#sk-container-id-1 a.estimator_doc_link.fitted {\n",
       "  /* fitted */\n",
       "  border: var(--sklearn-color-fitted-level-1) 1pt solid;\n",
       "  color: var(--sklearn-color-fitted-level-1);\n",
       "}\n",
       "\n",
       "/* On hover */\n",
       "#sk-container-id-1 a.estimator_doc_link:hover {\n",
       "  /* unfitted */\n",
       "  background-color: var(--sklearn-color-unfitted-level-3);\n",
       "  color: var(--sklearn-color-background);\n",
       "  text-decoration: none;\n",
       "}\n",
       "\n",
       "#sk-container-id-1 a.estimator_doc_link.fitted:hover {\n",
       "  /* fitted */\n",
       "  background-color: var(--sklearn-color-fitted-level-3);\n",
       "}\n",
       "</style><div id=\"sk-container-id-1\" class=\"sk-top-container\"><div class=\"sk-text-repr-fallback\"><pre>RandomForestClassifier(random_state=42)</pre><b>In a Jupyter environment, please rerun this cell to show the HTML representation or trust the notebook. <br />On GitHub, the HTML representation is unable to render, please try loading this page with nbviewer.org.</b></div><div class=\"sk-container\" hidden><div class=\"sk-item\"><div class=\"sk-estimator fitted sk-toggleable\"><input class=\"sk-toggleable__control sk-hidden--visually\" id=\"sk-estimator-id-1\" type=\"checkbox\" checked><label for=\"sk-estimator-id-1\" class=\"sk-toggleable__label fitted sk-toggleable__label-arrow\"><div><div>RandomForestClassifier</div></div><div><a class=\"sk-estimator-doc-link fitted\" rel=\"noreferrer\" target=\"_blank\" href=\"https://scikit-learn.org/1.6/modules/generated/sklearn.ensemble.RandomForestClassifier.html\">?<span>Documentation for RandomForestClassifier</span></a><span class=\"sk-estimator-doc-link fitted\">i<span>Fitted</span></span></div></label><div class=\"sk-toggleable__content fitted\"><pre>RandomForestClassifier(random_state=42)</pre></div> </div></div></div></div>"
      ],
      "text/plain": [
       "RandomForestClassifier(random_state=42)"
      ]
     },
     "execution_count": 28,
     "metadata": {},
     "output_type": "execute_result"
    }
   ],
   "source": [
    "rnd_clf = RandomForestClassifier(n_estimators=100, random_state=42)\n",
    "rnd_clf.fit(mnist[\"data\"], mnist[\"target\"])"
   ]
  },
  {
   "cell_type": "code",
   "execution_count": 29,
   "metadata": {},
   "outputs": [],
   "source": [
    "from sklearn.preprocessing import MinMaxScaler"
   ]
  },
  {
   "cell_type": "code",
   "execution_count": 30,
   "metadata": {},
   "outputs": [
    {
     "data": {
      "text/plain": [
       "array([[0.00000000e+00],\n",
       "       [0.00000000e+00],\n",
       "       [0.00000000e+00],\n",
       "       [0.00000000e+00],\n",
       "       [0.00000000e+00],\n",
       "       [0.00000000e+00],\n",
       "       [0.00000000e+00],\n",
       "       [0.00000000e+00],\n",
       "       [0.00000000e+00],\n",
       "       [0.00000000e+00],\n",
       "       [0.00000000e+00],\n",
       "       [0.00000000e+00],\n",
       "       [0.00000000e+00],\n",
       "       [0.00000000e+00],\n",
       "       [0.00000000e+00],\n",
       "       [0.00000000e+00],\n",
       "       [0.00000000e+00],\n",
       "       [0.00000000e+00],\n",
       "       [0.00000000e+00],\n",
       "       [0.00000000e+00],\n",
       "       [0.00000000e+00],\n",
       "       [0.00000000e+00],\n",
       "       [0.00000000e+00],\n",
       "       [0.00000000e+00],\n",
       "       [0.00000000e+00],\n",
       "       [0.00000000e+00],\n",
       "       [0.00000000e+00],\n",
       "       [0.00000000e+00],\n",
       "       [0.00000000e+00],\n",
       "       [0.00000000e+00],\n",
       "       [0.00000000e+00],\n",
       "       [0.00000000e+00],\n",
       "       [0.00000000e+00],\n",
       "       [0.00000000e+00],\n",
       "       [3.20347737e-05],\n",
       "       [6.42126009e-05],\n",
       "       [1.54511570e-04],\n",
       "       [2.35168622e-04],\n",
       "       [4.20730869e-04],\n",
       "       [3.59091700e-04],\n",
       "       [1.84110273e-04],\n",
       "       [2.99435291e-04],\n",
       "       [1.55753187e-04],\n",
       "       [3.62920867e-04],\n",
       "       [3.19996082e-04],\n",
       "       [3.31092190e-04],\n",
       "       [3.20255368e-05],\n",
       "       [2.43041117e-04],\n",
       "       [4.66247096e-05],\n",
       "       [2.91889740e-05],\n",
       "       [0.00000000e+00],\n",
       "       [9.59491045e-05],\n",
       "       [0.00000000e+00],\n",
       "       [0.00000000e+00],\n",
       "       [0.00000000e+00],\n",
       "       [0.00000000e+00],\n",
       "       [0.00000000e+00],\n",
       "       [0.00000000e+00],\n",
       "       [0.00000000e+00],\n",
       "       [9.56232016e-05],\n",
       "       [0.00000000e+00],\n",
       "       [0.00000000e+00],\n",
       "       [4.84964205e-04],\n",
       "       [7.50045630e-04],\n",
       "       [1.56619299e-03],\n",
       "       [6.51269257e-03],\n",
       "       [6.55278834e-03],\n",
       "       [1.28610214e-02],\n",
       "       [1.63784470e-02],\n",
       "       [2.06190301e-02],\n",
       "       [2.70440164e-02],\n",
       "       [1.32493980e-02],\n",
       "       [6.30573102e-03],\n",
       "       [5.64548132e-03],\n",
       "       [5.91955509e-03],\n",
       "       [7.07189517e-03],\n",
       "       [3.82176456e-03],\n",
       "       [1.56586704e-03],\n",
       "       [4.57471091e-04],\n",
       "       [1.88735560e-04],\n",
       "       [3.20303210e-05],\n",
       "       [0.00000000e+00],\n",
       "       [0.00000000e+00],\n",
       "       [0.00000000e+00],\n",
       "       [0.00000000e+00],\n",
       "       [0.00000000e+00],\n",
       "       [0.00000000e+00],\n",
       "       [6.48663305e-05],\n",
       "       [1.76871562e-04],\n",
       "       [1.19564660e-04],\n",
       "       [5.68395216e-04],\n",
       "       [3.03021402e-03],\n",
       "       [5.94758716e-03],\n",
       "       [1.57161739e-02],\n",
       "       [2.00344323e-02],\n",
       "       [4.51944424e-02],\n",
       "       [8.42809912e-02],\n",
       "       [8.72343957e-02],\n",
       "       [1.07276457e-01],\n",
       "       [1.67609884e-01],\n",
       "       [3.08996610e-01],\n",
       "       [1.98336562e-01],\n",
       "       [8.58744682e-02],\n",
       "       [9.64230599e-02],\n",
       "       [3.00616552e-02],\n",
       "       [1.86128072e-02],\n",
       "       [6.18356736e-03],\n",
       "       [3.06766734e-03],\n",
       "       [1.35829620e-03],\n",
       "       [2.27036555e-04],\n",
       "       [1.57365108e-04],\n",
       "       [0.00000000e+00],\n",
       "       [0.00000000e+00],\n",
       "       [0.00000000e+00],\n",
       "       [1.24977978e-04],\n",
       "       [9.04555510e-05],\n",
       "       [7.63963636e-04],\n",
       "       [1.06402810e-03],\n",
       "       [2.47675173e-03],\n",
       "       [6.63268601e-03],\n",
       "       [1.62687339e-02],\n",
       "       [3.83820405e-02],\n",
       "       [8.37874269e-02],\n",
       "       [1.09560512e-01],\n",
       "       [1.65451513e-01],\n",
       "       [2.57683274e-01],\n",
       "       [3.07266316e-01],\n",
       "       [1.95950396e-01],\n",
       "       [1.36708682e-01],\n",
       "       [1.23245751e-01],\n",
       "       [8.45227222e-02],\n",
       "       [5.92818122e-02],\n",
       "       [3.77946477e-02],\n",
       "       [2.17631687e-02],\n",
       "       [1.67866404e-02],\n",
       "       [9.09223231e-03],\n",
       "       [3.19295744e-03],\n",
       "       [1.94554351e-03],\n",
       "       [3.43792931e-04],\n",
       "       [0.00000000e+00],\n",
       "       [0.00000000e+00],\n",
       "       [0.00000000e+00],\n",
       "       [5.40533273e-05],\n",
       "       [8.75210522e-05],\n",
       "       [1.88930132e-03],\n",
       "       [4.90937075e-03],\n",
       "       [1.17441783e-02],\n",
       "       [3.02730010e-02],\n",
       "       [6.36580480e-02],\n",
       "       [1.43927153e-01],\n",
       "       [1.40233889e-01],\n",
       "       [2.35101685e-01],\n",
       "       [3.71344729e-01],\n",
       "       [4.19933925e-01],\n",
       "       [4.07702157e-01],\n",
       "       [7.57492119e-01],\n",
       "       [4.85977090e-01],\n",
       "       [3.61186281e-01],\n",
       "       [2.15782184e-01],\n",
       "       [1.61016631e-01],\n",
       "       [1.18665124e-01],\n",
       "       [7.20659751e-02],\n",
       "       [6.03197068e-02],\n",
       "       [4.08109915e-02],\n",
       "       [9.15628723e-03],\n",
       "       [2.71512542e-03],\n",
       "       [4.47757433e-04],\n",
       "       [3.16985108e-05],\n",
       "       [0.00000000e+00],\n",
       "       [0.00000000e+00],\n",
       "       [3.06574371e-04],\n",
       "       [8.66145222e-04],\n",
       "       [3.56644041e-03],\n",
       "       [9.86746614e-03],\n",
       "       [2.92754369e-02],\n",
       "       [4.24237692e-02],\n",
       "       [8.41565481e-02],\n",
       "       [2.19697213e-01],\n",
       "       [2.72978730e-01],\n",
       "       [3.10689892e-01],\n",
       "       [1.85576721e-01],\n",
       "       [3.19152578e-01],\n",
       "       [5.07725262e-01],\n",
       "       [5.41791591e-01],\n",
       "       [3.45422790e-01],\n",
       "       [2.21519441e-01],\n",
       "       [2.24605211e-01],\n",
       "       [1.86829478e-01],\n",
       "       [1.48605702e-01],\n",
       "       [1.67119385e-01],\n",
       "       [1.31181075e-01],\n",
       "       [8.60316819e-02],\n",
       "       [4.11570067e-02],\n",
       "       [6.38303197e-03],\n",
       "       [6.16526370e-04],\n",
       "       [2.69132765e-04],\n",
       "       [0.00000000e+00],\n",
       "       [6.32756771e-05],\n",
       "       [1.23120919e-04],\n",
       "       [1.45918092e-03],\n",
       "       [7.37912221e-03],\n",
       "       [1.91588315e-02],\n",
       "       [3.44128361e-02],\n",
       "       [6.44654123e-02],\n",
       "       [1.06708047e-01],\n",
       "       [2.14601364e-01],\n",
       "       [3.33006649e-01],\n",
       "       [2.57066659e-01],\n",
       "       [2.32384117e-01],\n",
       "       [3.85683259e-01],\n",
       "       [5.63727326e-01],\n",
       "       [6.72138859e-01],\n",
       "       [4.54837975e-01],\n",
       "       [3.16339487e-01],\n",
       "       [2.89975937e-01],\n",
       "       [1.76516733e-01],\n",
       "       [1.86962651e-01],\n",
       "       [1.59128044e-01],\n",
       "       [1.55097131e-01],\n",
       "       [1.13786871e-01],\n",
       "       [5.90059271e-02],\n",
       "       [2.82191744e-02],\n",
       "       [1.48205956e-03],\n",
       "       [1.08255503e-04],\n",
       "       [0.00000000e+00],\n",
       "       [9.28711731e-05],\n",
       "       [4.77367581e-04],\n",
       "       [2.13969646e-03],\n",
       "       [9.73286091e-03],\n",
       "       [1.73703896e-02],\n",
       "       [4.42549995e-02],\n",
       "       [7.32756795e-02],\n",
       "       [1.05163712e-01],\n",
       "       [1.30330417e-01],\n",
       "       [2.77608564e-01],\n",
       "       [3.22560415e-01],\n",
       "       [3.11099489e-01],\n",
       "       [4.23000062e-01],\n",
       "       [4.75252277e-01],\n",
       "       [5.81140205e-01],\n",
       "       [4.33768892e-01],\n",
       "       [3.30107171e-01],\n",
       "       [3.43522452e-01],\n",
       "       [3.06744693e-01],\n",
       "       [2.13835262e-01],\n",
       "       [1.34509434e-01],\n",
       "       [1.07339806e-01],\n",
       "       [9.93748411e-02],\n",
       "       [8.87547409e-02],\n",
       "       [1.99275739e-02],\n",
       "       [1.48705861e-03],\n",
       "       [2.02823703e-04],\n",
       "       [0.00000000e+00],\n",
       "       [1.24392755e-04],\n",
       "       [6.20125516e-04],\n",
       "       [2.80723415e-03],\n",
       "       [7.61522900e-03],\n",
       "       [2.43923988e-02],\n",
       "       [3.65905100e-02],\n",
       "       [8.47919039e-02],\n",
       "       [1.83918584e-01],\n",
       "       [2.93871435e-01],\n",
       "       [5.05318098e-01],\n",
       "       [4.12339787e-01],\n",
       "       [3.27700810e-01],\n",
       "       [4.07478702e-01],\n",
       "       [4.09584302e-01],\n",
       "       [4.75716203e-01],\n",
       "       [3.31250968e-01],\n",
       "       [4.07095934e-01],\n",
       "       [4.35634629e-01],\n",
       "       [3.16455101e-01],\n",
       "       [2.97268006e-01],\n",
       "       [1.59407729e-01],\n",
       "       [7.94726320e-02],\n",
       "       [9.66397902e-02],\n",
       "       [5.00068380e-02],\n",
       "       [9.26221684e-03],\n",
       "       [3.27076411e-03],\n",
       "       [2.91629314e-04],\n",
       "       [0.00000000e+00],\n",
       "       [0.00000000e+00],\n",
       "       [4.55447622e-04],\n",
       "       [2.65168981e-03],\n",
       "       [9.76155775e-03],\n",
       "       [2.18257323e-02],\n",
       "       [3.96047662e-02],\n",
       "       [9.39633498e-02],\n",
       "       [1.50632246e-01],\n",
       "       [2.59117318e-01],\n",
       "       [5.51918655e-01],\n",
       "       [5.25994029e-01],\n",
       "       [3.05954802e-01],\n",
       "       [2.82969812e-01],\n",
       "       [2.96504712e-01],\n",
       "       [4.16635496e-01],\n",
       "       [3.73850593e-01],\n",
       "       [4.03228564e-01],\n",
       "       [4.62309320e-01],\n",
       "       [3.70705264e-01],\n",
       "       [2.84483925e-01],\n",
       "       [2.27442725e-01],\n",
       "       [1.08010659e-01],\n",
       "       [4.30983579e-02],\n",
       "       [2.52384255e-02],\n",
       "       [7.60527390e-03],\n",
       "       [1.52699629e-03],\n",
       "       [8.84945528e-05],\n",
       "       [0.00000000e+00],\n",
       "       [1.41289386e-04],\n",
       "       [5.26930923e-04],\n",
       "       [2.21986502e-03],\n",
       "       [8.38385757e-03],\n",
       "       [2.04297830e-02],\n",
       "       [5.89697448e-02],\n",
       "       [1.34192648e-01],\n",
       "       [2.66626274e-01],\n",
       "       [3.96509967e-01],\n",
       "       [7.35518811e-01],\n",
       "       [6.95054444e-01],\n",
       "       [3.66656486e-01],\n",
       "       [3.10426388e-01],\n",
       "       [5.41904925e-01],\n",
       "       [6.17154193e-01],\n",
       "       [3.47331017e-01],\n",
       "       [3.33470994e-01],\n",
       "       [5.33181461e-01],\n",
       "       [3.33012180e-01],\n",
       "       [1.59265588e-01],\n",
       "       [1.78360850e-01],\n",
       "       [1.89020467e-01],\n",
       "       [5.97950523e-02],\n",
       "       [1.31153313e-02],\n",
       "       [3.69078588e-03],\n",
       "       [1.15924594e-03],\n",
       "       [8.86519234e-05],\n",
       "       [0.00000000e+00],\n",
       "       [8.05889359e-05],\n",
       "       [2.85661445e-04],\n",
       "       [1.86141831e-03],\n",
       "       [9.29685402e-03],\n",
       "       [3.14618462e-02],\n",
       "       [9.84951979e-02],\n",
       "       [1.63850398e-01],\n",
       "       [3.31022015e-01],\n",
       "       [3.82749297e-01],\n",
       "       [4.30031950e-01],\n",
       "       [4.94425313e-01],\n",
       "       [4.91252396e-01],\n",
       "       [4.67554791e-01],\n",
       "       [7.38881618e-01],\n",
       "       [5.43782084e-01],\n",
       "       [3.20108204e-01],\n",
       "       [3.93331285e-01],\n",
       "       [3.83441058e-01],\n",
       "       [2.55765405e-01],\n",
       "       [1.60695901e-01],\n",
       "       [2.30636404e-01],\n",
       "       [1.76457086e-01],\n",
       "       [7.74793378e-02],\n",
       "       [1.25775008e-02],\n",
       "       [2.34189083e-03],\n",
       "       [7.48742389e-04],\n",
       "       [0.00000000e+00],\n",
       "       [0.00000000e+00],\n",
       "       [0.00000000e+00],\n",
       "       [3.77467596e-04],\n",
       "       [1.52207611e-03],\n",
       "       [8.82138692e-03],\n",
       "       [3.07855276e-02],\n",
       "       [9.21996490e-02],\n",
       "       [2.01328554e-01],\n",
       "       [2.69979014e-01],\n",
       "       [4.48835771e-01],\n",
       "       [6.22812089e-01],\n",
       "       [5.38517303e-01],\n",
       "       [5.41566134e-01],\n",
       "       [6.72489886e-01],\n",
       "       [1.00000000e+00],\n",
       "       [5.29276999e-01],\n",
       "       [3.46689488e-01],\n",
       "       [6.42774291e-01],\n",
       "       [3.14281437e-01],\n",
       "       [1.82610259e-01],\n",
       "       [1.14316241e-01],\n",
       "       [1.22582093e-01],\n",
       "       [2.65316142e-01],\n",
       "       [9.21614771e-02],\n",
       "       [1.28294315e-02],\n",
       "       [1.69430411e-03],\n",
       "       [8.72283284e-04],\n",
       "       [0.00000000e+00],\n",
       "       [9.26174238e-05],\n",
       "       [3.19989094e-05],\n",
       "       [2.13664600e-04],\n",
       "       [1.70367233e-03],\n",
       "       [9.04586928e-03],\n",
       "       [3.28320469e-02],\n",
       "       [1.01950568e-01],\n",
       "       [2.19235497e-01],\n",
       "       [4.83388436e-01],\n",
       "       [5.87637446e-01],\n",
       "       [4.09464952e-01],\n",
       "       [4.76467531e-01],\n",
       "       [4.41726017e-01],\n",
       "       [7.46017420e-01],\n",
       "       [6.44427120e-01],\n",
       "       [4.30458091e-01],\n",
       "       [5.21683062e-01],\n",
       "       [8.41204970e-01],\n",
       "       [3.16020058e-01],\n",
       "       [1.61184597e-01],\n",
       "       [1.14347938e-01],\n",
       "       [1.93992400e-01],\n",
       "       [1.70542415e-01],\n",
       "       [5.99587336e-02],\n",
       "       [1.51982668e-02],\n",
       "       [4.15324556e-03],\n",
       "       [5.75436170e-04],\n",
       "       [1.62165723e-05],\n",
       "       [0.00000000e+00],\n",
       "       [0.00000000e+00],\n",
       "       [1.84240653e-04],\n",
       "       [2.50757148e-03],\n",
       "       [7.23410057e-03],\n",
       "       [3.90730526e-02],\n",
       "       [1.12594676e-01],\n",
       "       [3.32792826e-01],\n",
       "       [3.22053135e-01],\n",
       "       [5.71514277e-01],\n",
       "       [4.81836005e-01],\n",
       "       [3.92903875e-01],\n",
       "       [4.92177256e-01],\n",
       "       [9.89384811e-01],\n",
       "       [6.47149789e-01],\n",
       "       [5.12271363e-01],\n",
       "       [3.68306059e-01],\n",
       "       [5.82480070e-01],\n",
       "       [2.95683637e-01],\n",
       "       [1.86262458e-01],\n",
       "       [1.67042150e-01],\n",
       "       [2.49608415e-01],\n",
       "       [9.04429365e-02],\n",
       "       [5.27741516e-02],\n",
       "       [1.93687432e-02],\n",
       "       [4.33327837e-03],\n",
       "       [1.74389227e-03],\n",
       "       [0.00000000e+00],\n",
       "       [0.00000000e+00],\n",
       "       [0.00000000e+00],\n",
       "       [4.88328203e-04],\n",
       "       [2.03151544e-03],\n",
       "       [1.00407273e-02],\n",
       "       [4.24620522e-02],\n",
       "       [2.38850611e-01],\n",
       "       [3.11380409e-01],\n",
       "       [3.05734509e-01],\n",
       "       [5.10365438e-01],\n",
       "       [4.92273444e-01],\n",
       "       [5.00394322e-01],\n",
       "       [6.54092910e-01],\n",
       "       [7.09056659e-01],\n",
       "       [6.19466995e-01],\n",
       "       [2.94533866e-01],\n",
       "       [3.17140354e-01],\n",
       "       [3.62830476e-01],\n",
       "       [2.49974933e-01],\n",
       "       [1.90623500e-01],\n",
       "       [1.48285772e-01],\n",
       "       [1.44592834e-01],\n",
       "       [6.20193336e-02],\n",
       "       [3.82380848e-02],\n",
       "       [1.78859818e-02],\n",
       "       [5.78522200e-03],\n",
       "       [1.33549717e-03],\n",
       "       [1.83217006e-04],\n",
       "       [0.00000000e+00],\n",
       "       [6.31917794e-05],\n",
       "       [5.46974965e-04],\n",
       "       [3.65732457e-03],\n",
       "       [1.40150379e-02],\n",
       "       [5.56492195e-02],\n",
       "       [1.07195755e-01],\n",
       "       [2.13322920e-01],\n",
       "       [3.46097563e-01],\n",
       "       [4.88641046e-01],\n",
       "       [5.09526890e-01],\n",
       "       [5.36880953e-01],\n",
       "       [4.59154818e-01],\n",
       "       [7.56217744e-01],\n",
       "       [4.33942654e-01],\n",
       "       [2.41093483e-01],\n",
       "       [1.83721119e-01],\n",
       "       [2.57472691e-01],\n",
       "       [2.09921264e-01],\n",
       "       [1.34085106e-01],\n",
       "       [1.64895759e-01],\n",
       "       [1.01145930e-01],\n",
       "       [6.13810970e-02],\n",
       "       [3.35564922e-02],\n",
       "       [1.70368378e-02],\n",
       "       [7.09831020e-03],\n",
       "       [7.44949746e-04],\n",
       "       [5.41128027e-04],\n",
       "       [0.00000000e+00],\n",
       "       [9.28563884e-05],\n",
       "       [3.66973419e-04],\n",
       "       [4.79840228e-03],\n",
       "       [1.56706917e-02],\n",
       "       [5.36873304e-02],\n",
       "       [1.57990582e-01],\n",
       "       [2.60781067e-01],\n",
       "       [2.12966395e-01],\n",
       "       [3.22144126e-01],\n",
       "       [5.91985703e-01],\n",
       "       [5.83193370e-01],\n",
       "       [4.28718426e-01],\n",
       "       [4.39082674e-01],\n",
       "       [2.69113048e-01],\n",
       "       [1.87947902e-01],\n",
       "       [1.21372156e-01],\n",
       "       [1.67495954e-01],\n",
       "       [2.59034039e-01],\n",
       "       [1.91979543e-01],\n",
       "       [1.40429907e-01],\n",
       "       [1.16154912e-01],\n",
       "       [6.32193223e-02],\n",
       "       [4.35004539e-02],\n",
       "       [2.16651725e-02],\n",
       "       [5.93792158e-03],\n",
       "       [7.33977427e-04],\n",
       "       [1.25875797e-04],\n",
       "       [0.00000000e+00],\n",
       "       [1.36519067e-04],\n",
       "       [1.17538381e-03],\n",
       "       [7.46364631e-03],\n",
       "       [2.93083205e-02],\n",
       "       [6.31504628e-02],\n",
       "       [1.33409019e-01],\n",
       "       [3.18939403e-01],\n",
       "       [5.22417101e-01],\n",
       "       [5.57269453e-01],\n",
       "       [6.04469484e-01],\n",
       "       [7.84585787e-01],\n",
       "       [3.53589249e-01],\n",
       "       [2.62128361e-01],\n",
       "       [1.91173849e-01],\n",
       "       [1.32469992e-01],\n",
       "       [1.33520401e-01],\n",
       "       [1.97814392e-01],\n",
       "       [3.82656277e-01],\n",
       "       [2.42585519e-01],\n",
       "       [1.52340680e-01],\n",
       "       [6.83328021e-02],\n",
       "       [9.67166053e-02],\n",
       "       [3.58040078e-02],\n",
       "       [1.51223736e-02],\n",
       "       [3.44851092e-03],\n",
       "       [2.52941662e-04],\n",
       "       [6.35100352e-05],\n",
       "       [0.00000000e+00],\n",
       "       [1.85186315e-04],\n",
       "       [2.77953650e-04],\n",
       "       [7.29450426e-03],\n",
       "       [2.42189812e-02],\n",
       "       [5.70233602e-02],\n",
       "       [1.99777165e-01],\n",
       "       [3.07614587e-01],\n",
       "       [5.61754630e-01],\n",
       "       [5.48195253e-01],\n",
       "       [3.49581329e-01],\n",
       "       [3.40308759e-01],\n",
       "       [3.17540563e-01],\n",
       "       [2.05176390e-01],\n",
       "       [1.82294479e-01],\n",
       "       [1.65900967e-01],\n",
       "       [1.80303775e-01],\n",
       "       [2.09242889e-01],\n",
       "       [2.87186715e-01],\n",
       "       [1.57837563e-01],\n",
       "       [1.20382656e-01],\n",
       "       [7.89359929e-02],\n",
       "       [5.75178152e-02],\n",
       "       [3.83076036e-02],\n",
       "       [1.36102145e-02],\n",
       "       [1.99245731e-03],\n",
       "       [3.63786807e-04],\n",
       "       [0.00000000e+00],\n",
       "       [0.00000000e+00],\n",
       "       [0.00000000e+00],\n",
       "       [6.84316694e-04],\n",
       "       [3.86390624e-03],\n",
       "       [1.50119549e-02],\n",
       "       [5.99422670e-02],\n",
       "       [9.71868191e-02],\n",
       "       [3.62548310e-01],\n",
       "       [5.32332989e-01],\n",
       "       [3.54666611e-01],\n",
       "       [2.76595584e-01],\n",
       "       [1.70344733e-01],\n",
       "       [1.92191176e-01],\n",
       "       [1.48269414e-01],\n",
       "       [1.34978522e-01],\n",
       "       [1.26125139e-01],\n",
       "       [1.36621643e-01],\n",
       "       [1.60013010e-01],\n",
       "       [1.27434757e-01],\n",
       "       [1.38819364e-01],\n",
       "       [7.73911275e-02],\n",
       "       [4.94083932e-02],\n",
       "       [3.08160322e-02],\n",
       "       [1.66591852e-02],\n",
       "       [8.34225478e-03],\n",
       "       [1.11966261e-03],\n",
       "       [4.17595145e-05],\n",
       "       [0.00000000e+00],\n",
       "       [0.00000000e+00],\n",
       "       [0.00000000e+00],\n",
       "       [4.14896982e-04],\n",
       "       [2.97201631e-03],\n",
       "       [9.32389973e-03],\n",
       "       [2.55419809e-02],\n",
       "       [5.84161341e-02],\n",
       "       [2.06044664e-01],\n",
       "       [1.93664250e-01],\n",
       "       [3.24640780e-01],\n",
       "       [3.10139036e-01],\n",
       "       [2.01014960e-01],\n",
       "       [2.03267324e-01],\n",
       "       [1.87311195e-01],\n",
       "       [1.48424762e-01],\n",
       "       [1.57986048e-01],\n",
       "       [1.08161667e-01],\n",
       "       [1.02345722e-01],\n",
       "       [8.70968447e-02],\n",
       "       [5.58717746e-02],\n",
       "       [3.53508672e-02],\n",
       "       [2.54426558e-02],\n",
       "       [1.51311905e-02],\n",
       "       [6.48389321e-03],\n",
       "       [2.58517007e-03],\n",
       "       [5.61128139e-04],\n",
       "       [5.64038366e-05],\n",
       "       [0.00000000e+00],\n",
       "       [0.00000000e+00],\n",
       "       [0.00000000e+00],\n",
       "       [3.16897094e-05],\n",
       "       [1.62413666e-03],\n",
       "       [6.02491139e-03],\n",
       "       [1.60339080e-02],\n",
       "       [4.08251038e-02],\n",
       "       [8.32165896e-02],\n",
       "       [2.18121692e-01],\n",
       "       [2.28734322e-01],\n",
       "       [2.90634301e-01],\n",
       "       [3.50630440e-01],\n",
       "       [5.19878227e-01],\n",
       "       [4.13476129e-01],\n",
       "       [4.74915906e-01],\n",
       "       [2.58391930e-01],\n",
       "       [1.68644004e-01],\n",
       "       [1.03741102e-01],\n",
       "       [6.44605354e-02],\n",
       "       [3.79387386e-02],\n",
       "       [3.14039931e-02],\n",
       "       [1.40041264e-02],\n",
       "       [7.66317642e-03],\n",
       "       [3.30156274e-03],\n",
       "       [1.21590626e-03],\n",
       "       [5.03377330e-04],\n",
       "       [1.51355490e-04],\n",
       "       [0.00000000e+00],\n",
       "       [0.00000000e+00],\n",
       "       [0.00000000e+00],\n",
       "       [1.49296664e-04],\n",
       "       [6.18209883e-04],\n",
       "       [4.90348989e-03],\n",
       "       [1.23781227e-02],\n",
       "       [2.22183501e-02],\n",
       "       [4.36439823e-02],\n",
       "       [6.68372980e-02],\n",
       "       [7.53242470e-02],\n",
       "       [1.55740264e-01],\n",
       "       [1.14535828e-01],\n",
       "       [1.71662243e-01],\n",
       "       [1.05916112e-01],\n",
       "       [1.14388225e-01],\n",
       "       [7.11125626e-02],\n",
       "       [5.56730561e-02],\n",
       "       [4.76588022e-02],\n",
       "       [3.53047550e-02],\n",
       "       [2.27026684e-02],\n",
       "       [1.31927307e-02],\n",
       "       [7.81350380e-03],\n",
       "       [3.33315149e-03],\n",
       "       [1.55515102e-03],\n",
       "       [9.55540941e-04],\n",
       "       [1.44529895e-04],\n",
       "       [0.00000000e+00],\n",
       "       [0.00000000e+00],\n",
       "       [0.00000000e+00],\n",
       "       [0.00000000e+00],\n",
       "       [0.00000000e+00],\n",
       "       [0.00000000e+00],\n",
       "       [1.52255661e-03],\n",
       "       [5.60570317e-03],\n",
       "       [9.64043912e-03],\n",
       "       [2.75456590e-02],\n",
       "       [3.46912264e-02],\n",
       "       [6.94763116e-02],\n",
       "       [8.53750120e-02],\n",
       "       [8.61829103e-02],\n",
       "       [8.22975117e-02],\n",
       "       [6.40511969e-02],\n",
       "       [5.85956596e-02],\n",
       "       [4.10688139e-02],\n",
       "       [4.57693124e-02],\n",
       "       [4.88446582e-02],\n",
       "       [2.71756490e-02],\n",
       "       [2.08361562e-02],\n",
       "       [1.02590808e-02],\n",
       "       [3.73164759e-03],\n",
       "       [1.02752571e-03],\n",
       "       [2.77191301e-04],\n",
       "       [3.56625126e-04],\n",
       "       [4.20479066e-05],\n",
       "       [0.00000000e+00],\n",
       "       [0.00000000e+00],\n",
       "       [0.00000000e+00],\n",
       "       [0.00000000e+00],\n",
       "       [0.00000000e+00],\n",
       "       [9.54341501e-05],\n",
       "       [4.99098933e-04],\n",
       "       [1.10445131e-03],\n",
       "       [1.11819909e-03],\n",
       "       [2.15620751e-03],\n",
       "       [6.28812872e-03],\n",
       "       [8.66746017e-03],\n",
       "       [8.48925976e-03],\n",
       "       [2.54568527e-02],\n",
       "       [2.08387718e-02],\n",
       "       [2.91770714e-02],\n",
       "       [3.81298840e-02],\n",
       "       [1.80505382e-02],\n",
       "       [1.50118623e-02],\n",
       "       [1.79520155e-02],\n",
       "       [7.91082570e-03],\n",
       "       [3.71674926e-03],\n",
       "       [2.81603254e-03],\n",
       "       [1.35033493e-03],\n",
       "       [2.22582942e-04],\n",
       "       [1.38040562e-04],\n",
       "       [0.00000000e+00],\n",
       "       [0.00000000e+00],\n",
       "       [0.00000000e+00],\n",
       "       [0.00000000e+00],\n",
       "       [0.00000000e+00],\n",
       "       [0.00000000e+00],\n",
       "       [0.00000000e+00],\n",
       "       [0.00000000e+00],\n",
       "       [0.00000000e+00],\n",
       "       [0.00000000e+00],\n",
       "       [2.30569183e-04],\n",
       "       [2.77988812e-05],\n",
       "       [7.60702157e-05],\n",
       "       [6.65723680e-05],\n",
       "       [1.23949728e-04],\n",
       "       [4.45855922e-04],\n",
       "       [3.38880133e-04],\n",
       "       [3.76737646e-04],\n",
       "       [4.28950278e-04],\n",
       "       [3.46790471e-04],\n",
       "       [5.60751293e-04],\n",
       "       [2.03740500e-04],\n",
       "       [3.23304830e-04],\n",
       "       [3.11877749e-04],\n",
       "       [3.16974326e-05],\n",
       "       [6.78163305e-05],\n",
       "       [1.47581895e-04],\n",
       "       [8.00979678e-05],\n",
       "       [0.00000000e+00],\n",
       "       [0.00000000e+00],\n",
       "       [0.00000000e+00],\n",
       "       [0.00000000e+00]])"
      ]
     },
     "execution_count": 30,
     "metadata": {},
     "output_type": "execute_result"
    }
   ],
   "source": [
    "minmaxscale = MinMaxScaler(feature_range=(0,1))\n",
    "features = minmaxscale.fit_transform(rnd_clf.feature_importances_.reshape(-1,1))\n",
    "features"
   ]
  },
  {
   "cell_type": "code",
   "execution_count": 31,
   "metadata": {},
   "outputs": [],
   "source": [
    "#features.sort()\n",
    "#features.max() # max\n",
    "#len(features)\n",
    "#features[348] # top 30 pixels -> was about 0.49..."
   ]
  },
  {
   "cell_type": "code",
   "execution_count": 32,
   "metadata": {},
   "outputs": [],
   "source": [
    "import numpy as np\n",
    "import numpy.ma as ma"
   ]
  },
  {
   "cell_type": "code",
   "execution_count": 33,
   "metadata": {},
   "outputs": [
    {
     "data": {
      "text/plain": [
       "31"
      ]
     },
     "execution_count": 33,
     "metadata": {},
     "output_type": "execute_result"
    }
   ],
   "source": [
    "mask_array = ma.masked_less(features, 0.55)\n",
    "mask = ~mask_array.mask\n",
    "np.count_nonzero(mask == [True])"
   ]
  },
  {
   "cell_type": "code",
   "execution_count": 34,
   "metadata": {},
   "outputs": [
    {
     "data": {
      "text/plain": [
       "31"
      ]
     },
     "execution_count": 34,
     "metadata": {},
     "output_type": "execute_result"
    }
   ],
   "source": [
    "filtered_train = [ma.masked_array(data, mask=mask_array.mask).compressed() for data in X_train_scaled]\n",
    "len(filtered_train[0])"
   ]
  },
  {
   "cell_type": "code",
   "execution_count": 35,
   "metadata": {},
   "outputs": [
    {
     "name": "stdout",
     "output_type": "stream",
     "text": [
      "svm_clf.fit took 0.028 secs\n",
      "ovr_clf.fit took 0.080 secs\n",
      "svm_clf.fit took 0.082 secs\n",
      "ovr_clf.fit took 0.256 secs\n",
      "svm_clf.fit took 0.254 secs\n",
      "ovr_clf.fit took 0.811 secs\n",
      "svm_clf.fit took 0.791 secs\n",
      "ovr_clf.fit took 2.718 secs\n",
      "svm_clf.fit took 1.152 secs\n",
      "ovr_clf.fit took 4.028 secs\n"
     ]
    }
   ],
   "source": [
    "for size in [1000, 2000, 4000, 8000, 10000]: #20000]:\n",
    "    with elapsed_timer() as svm_timer:\n",
    "        svm_clf.fit(filtered_train[:size], y_train[:size])\n",
    "    print(f\"svm_clf.fit took {svm_timer():.3f} secs\")\n",
    "    with elapsed_timer() as ovr_timer:  # 300 seconds on my laptop\n",
    "        ovr_clf.fit(filtered_train[:size], y_train[:size])\n",
    "    print(f\"ovr_clf.fit took {ovr_timer():.3f} secs\")\n",
    "    #sgd_clf.predict([some_digit])"
   ]
  },
  {
   "cell_type": "code",
   "execution_count": 36,
   "metadata": {},
   "outputs": [
    {
     "data": {
      "text/plain": [
       "array([0.74225, 0.72775, 0.73425])"
      ]
     },
     "execution_count": 36,
     "metadata": {},
     "output_type": "execute_result"
    }
   ],
   "source": [
    "cross_val_score(sgd_clf, filtered_train, y_train, cv=3, scoring=\"accuracy\")"
   ]
  },
  {
   "cell_type": "code",
   "execution_count": 37,
   "metadata": {},
   "outputs": [
    {
     "data": {
      "text/plain": [
       "array([0.8872 , 0.88685, 0.8938 ])"
      ]
     },
     "execution_count": 37,
     "metadata": {},
     "output_type": "execute_result"
    }
   ],
   "source": [
    "cross_val_score(svm_clf, filtered_train, y_train, cv=3, scoring=\"accuracy\")"
   ]
  },
  {
   "cell_type": "code",
   "execution_count": 38,
   "metadata": {},
   "outputs": [
    {
     "data": {
      "text/plain": [
       "array([0.8889 , 0.88505, 0.89345])"
      ]
     },
     "execution_count": 38,
     "metadata": {},
     "output_type": "execute_result"
    }
   ],
   "source": [
    "cross_val_score(ovr_clf, filtered_train, y_train, cv=3, scoring=\"accuracy\")"
   ]
  },
  {
   "cell_type": "markdown",
   "metadata": {},
   "source": [
    "sgd: 00:02 (73%), svm: 1:32 (89%), ovr: 4:41 (89%)"
   ]
  },
  {
   "cell_type": "markdown",
   "metadata": {},
   "source": [
    "PCA Reduction"
   ]
  },
  {
   "cell_type": "code",
   "execution_count": 39,
   "metadata": {},
   "outputs": [],
   "source": [
    "from sklearn.decomposition import PCA"
   ]
  },
  {
   "cell_type": "code",
   "execution_count": 40,
   "metadata": {},
   "outputs": [],
   "source": [
    "pca = PCA()\n",
    "pca_80 = PCA(n_components=0.8)"
   ]
  },
  {
   "cell_type": "code",
   "execution_count": 56,
   "metadata": {},
   "outputs": [],
   "source": [
    "reduced_pca = pca.fit_transform(X_train_scaled)\n",
    "reduced_pca80 = pca_80.fit_transform(X_train_scaled)"
   ]
  },
  {
   "cell_type": "code",
   "execution_count": 57,
   "metadata": {},
   "outputs": [
    {
     "data": {
      "text/plain": [
       "array([5.64671692e-02, 4.07827199e-02, 3.73938042e-02, 2.88511485e-02,\n",
       "       2.52110863e-02, 2.19426996e-02, 1.92334439e-02, 1.74579923e-02,\n",
       "       1.53509230e-02, 1.40171960e-02, 1.34174302e-02, 1.20374194e-02,\n",
       "       1.11456955e-02, 1.08992356e-02, 1.02864922e-02, 9.94486564e-03,\n",
       "       9.36383280e-03, 9.21045666e-03, 8.93436778e-03, 8.69912619e-03,\n",
       "       8.27363019e-03, 8.03417369e-03, 7.64845500e-03, 7.41772464e-03,\n",
       "       7.15292868e-03, 6.91846831e-03, 6.84135964e-03, 6.56674546e-03,\n",
       "       6.31676724e-03, 6.12919839e-03, 5.96255295e-03, 5.87716416e-03,\n",
       "       5.71591699e-03, 5.62307416e-03, 5.54682002e-03, 5.38418374e-03,\n",
       "       5.31182250e-03, 5.19605602e-03, 5.08211255e-03, 4.80005571e-03,\n",
       "       4.76455820e-03, 4.69139360e-03, 4.54348956e-03, 4.51345787e-03,\n",
       "       4.46963401e-03, 4.43383155e-03, 4.38215469e-03, 4.30381751e-03,\n",
       "       4.26877901e-03, 4.23647017e-03, 4.04696121e-03, 3.99447403e-03,\n",
       "       3.97456119e-03, 3.93820800e-03, 3.85813590e-03, 3.79042674e-03,\n",
       "       3.75402681e-03, 3.70775845e-03, 3.64944381e-03, 3.59300573e-03,\n",
       "       3.52382166e-03, 3.47793645e-03, 3.44411308e-03, 3.39868117e-03,\n",
       "       3.35954544e-03, 3.34885955e-03, 3.31863689e-03, 3.23025954e-03,\n",
       "       3.16276973e-03, 3.13244250e-03, 3.10731431e-03, 3.07242899e-03,\n",
       "       3.04914199e-03, 3.02717181e-03, 2.99485323e-03, 2.97761173e-03,\n",
       "       2.95051565e-03, 2.90438134e-03, 2.86856189e-03, 2.85677747e-03,\n",
       "       2.83397779e-03, 2.82627143e-03, 2.79551057e-03, 2.79305359e-03,\n",
       "       2.78519192e-03, 2.77455466e-03, 2.75900805e-03, 2.74227323e-03,\n",
       "       2.71410605e-03, 2.69262948e-03, 2.66484337e-03, 2.63581290e-03,\n",
       "       2.62961589e-03, 2.61033820e-03, 2.58826934e-03, 2.56176419e-03,\n",
       "       2.53845859e-03, 2.50447261e-03, 2.47829391e-03, 2.45033552e-03,\n",
       "       2.42346674e-03, 2.42063796e-03, 2.38875442e-03, 2.37454706e-03,\n",
       "       2.35608411e-03, 2.33053226e-03, 2.27980069e-03, 2.26174216e-03,\n",
       "       2.22831536e-03, 2.22442133e-03, 2.18169379e-03, 2.17256803e-03,\n",
       "       2.14276795e-03, 2.11937711e-03, 2.10972018e-03, 2.07330213e-03,\n",
       "       2.04761134e-03, 2.04368197e-03, 2.02408502e-03, 2.00462169e-03,\n",
       "       1.98821976e-03, 1.95215574e-03, 1.93737315e-03, 1.92103229e-03,\n",
       "       1.91715873e-03, 1.89802101e-03, 1.87089479e-03, 1.86535675e-03,\n",
       "       1.81319976e-03, 1.80005268e-03, 1.79194040e-03, 1.78973224e-03,\n",
       "       1.76950445e-03, 1.76157710e-03, 1.74796770e-03, 1.72984728e-03,\n",
       "       1.72016644e-03, 1.68727125e-03, 1.68516985e-03, 1.66841509e-03,\n",
       "       1.64718445e-03, 1.64574944e-03, 1.64293577e-03, 1.61485783e-03,\n",
       "       1.60490264e-03, 1.58912270e-03, 1.57489525e-03, 1.55917747e-03,\n",
       "       1.55637950e-03, 1.54665655e-03, 1.54042901e-03, 1.51604652e-03,\n",
       "       1.50271567e-03, 1.48760565e-03, 1.47505430e-03, 1.46820162e-03,\n",
       "       1.45802783e-03, 1.45567656e-03, 1.44736835e-03, 1.42895145e-03,\n",
       "       1.41057816e-03, 1.39938608e-03, 1.39709226e-03, 1.39533037e-03,\n",
       "       1.39354988e-03, 1.39225175e-03, 1.38773151e-03, 1.38339674e-03,\n",
       "       1.37816069e-03, 1.36844702e-03, 1.36165499e-03, 1.35822407e-03,\n",
       "       1.33701334e-03, 1.32905439e-03, 1.31059437e-03, 1.30293154e-03,\n",
       "       1.29324334e-03, 1.28240697e-03, 1.27406762e-03, 1.26822152e-03,\n",
       "       1.25321737e-03, 1.24044776e-03, 1.22983532e-03, 1.21617954e-03,\n",
       "       1.21506257e-03, 1.20002486e-03, 1.19086914e-03, 1.18894490e-03,\n",
       "       1.17604162e-03, 1.16760206e-03, 1.16233903e-03, 1.14798282e-03,\n",
       "       1.13703534e-03, 1.12719891e-03, 1.12055208e-03, 1.09408772e-03,\n",
       "       1.08545551e-03, 1.07028452e-03, 1.06401116e-03, 1.05474462e-03,\n",
       "       1.04628483e-03, 1.03603841e-03, 1.03268067e-03, 1.02073235e-03,\n",
       "       1.00824777e-03, 1.00157893e-03, 9.97858606e-04, 9.91933313e-04,\n",
       "       9.77274639e-04, 9.68493765e-04, 9.58048757e-04, 9.56367936e-04,\n",
       "       9.47728406e-04, 9.46473246e-04, 9.43704990e-04, 9.26746176e-04,\n",
       "       9.17402333e-04, 9.08678198e-04, 8.97469656e-04, 8.91566644e-04,\n",
       "       8.87810702e-04, 8.78886491e-04, 8.69155717e-04, 8.62123529e-04,\n",
       "       8.60557703e-04, 8.45352966e-04, 8.40091864e-04, 8.35725753e-04,\n",
       "       8.24022474e-04, 8.20780361e-04, 8.12967854e-04, 8.10186461e-04,\n",
       "       7.91970503e-04, 7.83284480e-04, 7.78764350e-04, 7.71504273e-04,\n",
       "       7.66371667e-04, 7.50170334e-04, 7.43535625e-04, 7.38993635e-04,\n",
       "       7.32431189e-04, 7.27073859e-04, 7.25535584e-04, 7.16772908e-04,\n",
       "       7.11041349e-04, 7.02519051e-04, 6.94517740e-04, 6.94156822e-04,\n",
       "       6.79466899e-04, 6.78415578e-04, 6.76395480e-04, 6.71492446e-04,\n",
       "       6.63285597e-04, 6.55073097e-04, 6.51828065e-04, 6.44496102e-04,\n",
       "       6.41336819e-04, 6.36327233e-04, 6.32129287e-04, 6.27868337e-04,\n",
       "       6.24059952e-04, 6.20206461e-04, 6.09021758e-04, 6.05853419e-04,\n",
       "       5.98580327e-04, 5.91857030e-04, 5.83651845e-04, 5.80761631e-04,\n",
       "       5.75233881e-04, 5.72629455e-04, 5.69686291e-04, 5.63929836e-04,\n",
       "       5.58807036e-04, 5.56567164e-04, 5.51706570e-04, 5.50203644e-04,\n",
       "       5.44643711e-04, 5.40723579e-04, 5.38777097e-04, 5.32445484e-04,\n",
       "       5.29543512e-04, 5.26201192e-04, 5.22384385e-04, 5.18817857e-04,\n",
       "       5.14804840e-04, 5.08332697e-04, 5.07345481e-04, 5.03104519e-04,\n",
       "       5.00768031e-04, 4.97042197e-04, 4.92308573e-04, 4.82836952e-04,\n",
       "       4.79554897e-04, 4.76912770e-04, 4.76002550e-04, 4.71104522e-04,\n",
       "       4.65999651e-04, 4.58821916e-04, 4.56747992e-04, 4.49406869e-04,\n",
       "       4.46581545e-04, 4.42655649e-04, 4.38385188e-04, 4.38194669e-04,\n",
       "       4.32324618e-04, 4.30700373e-04, 4.24770651e-04, 4.21254612e-04,\n",
       "       4.19234285e-04, 4.15178925e-04, 4.13275255e-04, 4.10348221e-04,\n",
       "       4.08452188e-04, 4.03769484e-04, 4.01530664e-04, 3.98452383e-04,\n",
       "       3.95260370e-04, 3.92093378e-04, 3.90083255e-04, 3.86733512e-04,\n",
       "       3.86206699e-04, 3.83033613e-04, 3.79052545e-04, 3.76053481e-04,\n",
       "       3.75229999e-04, 3.70518885e-04, 3.66553022e-04, 3.63808931e-04,\n",
       "       3.59468081e-04, 3.58256667e-04, 3.55090317e-04, 3.53726869e-04,\n",
       "       3.52500351e-04, 3.48450487e-04, 3.45270766e-04, 3.41972108e-04,\n",
       "       3.38996329e-04, 3.36546423e-04, 3.34797512e-04, 3.32341215e-04,\n",
       "       3.30096106e-04, 3.28801304e-04, 3.24948554e-04, 3.23091043e-04,\n",
       "       3.21549999e-04, 3.19330410e-04, 3.14955331e-04, 3.11147469e-04,\n",
       "       3.09910466e-04, 3.08832339e-04, 3.06475745e-04, 3.04602447e-04,\n",
       "       3.02166074e-04, 3.00485139e-04, 2.97699085e-04, 2.96507222e-04,\n",
       "       2.94381913e-04, 2.90274888e-04, 2.89891929e-04, 2.87456250e-04,\n",
       "       2.85534007e-04, 2.83582710e-04, 2.82367019e-04, 2.80188689e-04,\n",
       "       2.77317439e-04, 2.76485454e-04, 2.72503864e-04, 2.70523450e-04,\n",
       "       2.70037574e-04, 2.66001658e-04, 2.65727292e-04, 2.62994697e-04,\n",
       "       2.60021566e-04, 2.59336021e-04, 2.55640647e-04, 2.53839456e-04,\n",
       "       2.53070828e-04, 2.51249296e-04, 2.49732138e-04, 2.48268957e-04,\n",
       "       2.44424551e-04, 2.44022459e-04, 2.43259668e-04, 2.42242125e-04,\n",
       "       2.37773210e-04, 2.37020965e-04, 2.36186594e-04, 2.34954574e-04,\n",
       "       2.33114962e-04, 2.30620992e-04, 2.29707302e-04, 2.29059198e-04,\n",
       "       2.27134704e-04, 2.25591391e-04, 2.24796795e-04, 2.24158070e-04,\n",
       "       2.21743503e-04, 2.21393454e-04, 2.20104422e-04, 2.18274151e-04,\n",
       "       2.17179304e-04, 2.16259378e-04, 2.14719222e-04, 2.13355724e-04,\n",
       "       2.11566598e-04, 2.10480939e-04, 2.08622422e-04, 2.07084046e-04,\n",
       "       2.06225017e-04, 2.03734789e-04, 2.02691563e-04, 1.99950746e-04,\n",
       "       1.99834078e-04, 1.98222885e-04, 1.98036615e-04, 1.96254395e-04,\n",
       "       1.95397400e-04, 1.90572935e-04, 1.89984458e-04, 1.89109247e-04,\n",
       "       1.88644309e-04, 1.87215126e-04, 1.85164302e-04, 1.84912252e-04,\n",
       "       1.83366259e-04, 1.80638047e-04, 1.79136924e-04, 1.79070468e-04,\n",
       "       1.77556807e-04, 1.76246029e-04, 1.76033969e-04, 1.75095014e-04,\n",
       "       1.73224690e-04, 1.73139639e-04, 1.71065757e-04, 1.70429815e-04,\n",
       "       1.70102733e-04, 1.68660323e-04, 1.68278792e-04, 1.66931173e-04,\n",
       "       1.65987324e-04, 1.65433872e-04, 1.64737698e-04, 1.63827825e-04,\n",
       "       1.63645724e-04, 1.62791527e-04, 1.61606073e-04, 1.60560258e-04,\n",
       "       1.59098310e-04, 1.57161330e-04, 1.56415228e-04, 1.55451919e-04,\n",
       "       1.53885285e-04, 1.53679410e-04, 1.52369953e-04, 1.51249240e-04,\n",
       "       1.49944720e-04, 1.49402989e-04, 1.49099958e-04, 1.47983412e-04,\n",
       "       1.47273690e-04, 1.47218342e-04, 1.46736104e-04, 1.44912059e-04,\n",
       "       1.43608368e-04, 1.43482647e-04, 1.43001382e-04, 1.41531553e-04,\n",
       "       1.41227884e-04, 1.40885343e-04, 1.39593003e-04, 1.39452727e-04,\n",
       "       1.38259646e-04, 1.37614309e-04, 1.36847855e-04, 1.36155506e-04,\n",
       "       1.34200138e-04, 1.33989506e-04, 1.33460724e-04, 1.31737299e-04,\n",
       "       1.31280184e-04, 1.31020606e-04, 1.30363699e-04, 1.29884773e-04,\n",
       "       1.29369490e-04, 1.28129647e-04, 1.26939156e-04, 1.26560142e-04,\n",
       "       1.25733827e-04, 1.25051804e-04, 1.24432104e-04, 1.23746493e-04,\n",
       "       1.22810823e-04, 1.22771352e-04, 1.21970804e-04, 1.21836270e-04,\n",
       "       1.20347622e-04, 1.20179436e-04, 1.19383026e-04, 1.18833225e-04,\n",
       "       1.18055591e-04, 1.17784560e-04, 1.16695799e-04, 1.15879032e-04,\n",
       "       1.15145750e-04, 1.14154375e-04, 1.13903703e-04, 1.13183928e-04,\n",
       "       1.12500107e-04, 1.12235028e-04, 1.11379367e-04, 1.10943785e-04,\n",
       "       1.09816839e-04, 1.09405699e-04, 1.08831874e-04, 1.08370555e-04,\n",
       "       1.07844733e-04, 1.07157714e-04, 1.07098714e-04, 1.06894143e-04,\n",
       "       1.06350046e-04, 1.05643271e-04, 1.05282295e-04, 1.04765474e-04,\n",
       "       1.04116752e-04, 1.03267551e-04, 1.02978271e-04, 1.02552310e-04,\n",
       "       1.02220450e-04, 1.01724240e-04, 1.00701249e-04, 1.00012254e-04,\n",
       "       9.98179780e-05, 9.90655677e-05, 9.88486690e-05, 9.86744813e-05,\n",
       "       9.73925303e-05, 9.71772834e-05, 9.65150109e-05, 9.61333656e-05,\n",
       "       9.56346094e-05, 9.50492807e-05, 9.45613301e-05, 9.40324315e-05,\n",
       "       9.38780494e-05, 9.27958372e-05, 9.24093558e-05, 9.23645255e-05,\n",
       "       9.21223464e-05, 9.08771677e-05, 9.02503229e-05, 8.96519825e-05,\n",
       "       8.87755195e-05, 8.83401875e-05, 8.79082435e-05, 8.75143732e-05,\n",
       "       8.74794795e-05, 8.67946435e-05, 8.61437369e-05, 8.53018778e-05,\n",
       "       8.47857500e-05, 8.45283099e-05, 8.44385835e-05, 8.41477325e-05,\n",
       "       8.37261410e-05, 8.32172012e-05, 8.21464358e-05, 8.20946249e-05,\n",
       "       8.16598494e-05, 8.08833253e-05, 8.06733287e-05, 8.04023328e-05,\n",
       "       7.98822704e-05, 7.93308480e-05, 7.85542727e-05, 7.82820366e-05,\n",
       "       7.81375152e-05, 7.76632830e-05, 7.72264269e-05, 7.65272964e-05,\n",
       "       7.58658126e-05, 7.56644490e-05, 7.55536178e-05, 7.47336462e-05,\n",
       "       7.45909205e-05, 7.42948816e-05, 7.34033186e-05, 7.32986156e-05,\n",
       "       7.26052599e-05, 7.25738170e-05, 7.17970741e-05, 7.17037849e-05,\n",
       "       7.11953459e-05, 7.05005525e-05, 6.96105893e-05, 6.94215507e-05,\n",
       "       6.90893395e-05, 6.89629192e-05, 6.82846081e-05, 6.78872617e-05,\n",
       "       6.75667630e-05, 6.75050203e-05, 6.71058036e-05, 6.67299336e-05,\n",
       "       6.65237147e-05, 6.57564640e-05, 6.55132503e-05, 6.52493585e-05,\n",
       "       6.47360457e-05, 6.42192077e-05, 6.39711392e-05, 6.33712589e-05,\n",
       "       6.29150459e-05, 6.26263764e-05, 6.20589388e-05, 6.18876291e-05,\n",
       "       6.16073087e-05, 6.10999046e-05, 6.07305111e-05, 6.04809030e-05,\n",
       "       6.01226237e-05, 5.99565456e-05, 5.93166730e-05, 5.90434412e-05,\n",
       "       5.87061026e-05, 5.85767326e-05, 5.80149122e-05, 5.79550438e-05,\n",
       "       5.72759031e-05, 5.70344955e-05, 5.66467637e-05, 5.64019614e-05,\n",
       "       5.62659919e-05, 5.59893206e-05, 5.57265051e-05, 5.55816045e-05,\n",
       "       5.50516232e-05, 5.49181035e-05, 5.43504822e-05, 5.38971050e-05,\n",
       "       5.34888136e-05, 5.33904750e-05, 5.28155431e-05, 5.22995294e-05,\n",
       "       5.19998440e-05, 5.17603370e-05, 5.12326575e-05, 5.09921653e-05,\n",
       "       5.04705057e-05, 5.02004295e-05, 5.00915702e-05, 4.94596582e-05,\n",
       "       4.93748118e-05, 4.88636976e-05, 4.86042635e-05, 4.82712685e-05,\n",
       "       4.81504397e-05, 4.78555794e-05, 4.76267460e-05, 4.73553637e-05,\n",
       "       4.64897074e-05, 4.60836991e-05, 4.60692009e-05, 4.58267217e-05,\n",
       "       4.52803993e-05, 4.50628495e-05, 4.47743048e-05, 4.43414794e-05,\n",
       "       4.40107807e-05, 4.36581829e-05, 4.34299638e-05, 4.30521020e-05,\n",
       "       4.26871388e-05, 4.19374657e-05, 4.17906875e-05, 4.15543444e-05,\n",
       "       4.10480547e-05, 4.08125472e-05, 4.02832618e-05, 3.99555713e-05,\n",
       "       3.98470381e-05, 3.94829324e-05, 3.87982019e-05, 3.87138157e-05,\n",
       "       3.82739108e-05, 3.81959085e-05, 3.76707765e-05, 3.74382161e-05,\n",
       "       3.70438193e-05, 3.64337425e-05, 3.63722354e-05, 3.57126179e-05,\n",
       "       3.54471870e-05, 3.50130350e-05, 3.46755448e-05, 3.41236121e-05,\n",
       "       3.37821583e-05, 3.34062607e-05, 3.31880073e-05, 3.28970513e-05,\n",
       "       3.25464996e-05, 3.20761484e-05, 3.10524790e-05, 3.02166496e-05,\n",
       "       2.99854554e-05, 2.93884623e-05, 2.83010624e-05, 2.64206622e-05,\n",
       "       2.55534972e-05, 1.93660011e-05, 1.00032169e-05, 9.15688276e-06,\n",
       "       1.88523626e-17, 2.37418436e-18, 2.02063604e-18, 1.59928719e-18,\n",
       "       1.51781101e-18, 8.02675142e-19, 6.17729101e-19, 5.72470349e-19,\n",
       "       5.35927420e-19, 5.16317710e-19, 4.85555064e-19, 3.75712444e-19,\n",
       "       3.45787300e-19, 3.17730441e-19, 2.31699004e-19, 2.24569834e-19,\n",
       "       2.22371562e-19, 1.06059680e-19, 4.81117932e-20, 2.86150144e-20,\n",
       "       2.07907171e-20, 1.92783035e-20, 9.70001704e-21, 7.61312450e-21,\n",
       "       4.80019524e-21, 1.96487579e-21, 1.00172122e-21, 5.38472067e-22,\n",
       "       0.00000000e+00, 0.00000000e+00, 0.00000000e+00, 0.00000000e+00,\n",
       "       0.00000000e+00, 0.00000000e+00, 0.00000000e+00, 0.00000000e+00,\n",
       "       0.00000000e+00, 0.00000000e+00, 0.00000000e+00, 0.00000000e+00,\n",
       "       0.00000000e+00, 0.00000000e+00, 0.00000000e+00, 0.00000000e+00,\n",
       "       0.00000000e+00, 0.00000000e+00, 0.00000000e+00, 0.00000000e+00,\n",
       "       0.00000000e+00, 0.00000000e+00, 0.00000000e+00, 0.00000000e+00,\n",
       "       0.00000000e+00, 0.00000000e+00, 0.00000000e+00, 0.00000000e+00,\n",
       "       0.00000000e+00, 0.00000000e+00, 0.00000000e+00, 0.00000000e+00,\n",
       "       0.00000000e+00, 0.00000000e+00, 0.00000000e+00, 0.00000000e+00,\n",
       "       0.00000000e+00, 0.00000000e+00, 0.00000000e+00, 0.00000000e+00,\n",
       "       0.00000000e+00, 0.00000000e+00, 0.00000000e+00, 0.00000000e+00])"
      ]
     },
     "execution_count": 57,
     "metadata": {},
     "output_type": "execute_result"
    }
   ],
   "source": [
    "pca.explained_variance_ratio_"
   ]
  },
  {
   "cell_type": "code",
   "execution_count": 59,
   "metadata": {},
   "outputs": [
    {
     "data": {
      "text/plain": [
       "array([0.05646717, 0.04078272, 0.0373938 , 0.02885115, 0.02521109,\n",
       "       0.0219427 , 0.01923344, 0.01745799, 0.01535092, 0.0140172 ,\n",
       "       0.01341743, 0.01203742, 0.0111457 , 0.01089924, 0.01028649,\n",
       "       0.00994487, 0.00936383, 0.00921046, 0.00893437, 0.00869913,\n",
       "       0.00827363, 0.00803417, 0.00764846, 0.00741772, 0.00715293,\n",
       "       0.00691847, 0.00684136, 0.00656675, 0.00631677, 0.0061292 ,\n",
       "       0.00596255, 0.00587716, 0.00571592, 0.00562307, 0.00554682,\n",
       "       0.00538418, 0.00531182, 0.00519606, 0.00508211, 0.00480006,\n",
       "       0.00476456, 0.00469139, 0.00454349, 0.00451346, 0.00446963,\n",
       "       0.00443383, 0.00438215, 0.00430382, 0.00426878, 0.00423647,\n",
       "       0.00404696, 0.00399447, 0.00397456, 0.00393821, 0.00385814,\n",
       "       0.00379043, 0.00375403, 0.00370776, 0.00364944, 0.00359301,\n",
       "       0.00352382, 0.00347794, 0.00344411, 0.00339868, 0.00335955,\n",
       "       0.00334886, 0.00331864, 0.00323026, 0.00316277, 0.00313244,\n",
       "       0.00310731, 0.00307243, 0.00304914, 0.00302717, 0.00299485,\n",
       "       0.00297761, 0.00295052, 0.00290438, 0.00286856, 0.00285678,\n",
       "       0.00283398, 0.00282627, 0.00279551, 0.00279305, 0.00278519,\n",
       "       0.00277455, 0.00275901, 0.00274227, 0.00271411, 0.00269263,\n",
       "       0.00266484, 0.00263581, 0.00262962, 0.00261034, 0.00258827,\n",
       "       0.00256176, 0.00253846, 0.00250447, 0.00247829, 0.00245034,\n",
       "       0.00242347, 0.00242064, 0.00238875, 0.00237455, 0.00235608,\n",
       "       0.00233053, 0.0022798 , 0.00226174, 0.00222832, 0.00222442,\n",
       "       0.00218169, 0.00217257, 0.00214277, 0.00211938, 0.00210972,\n",
       "       0.0020733 , 0.00204761, 0.00204368, 0.00202409, 0.00200462,\n",
       "       0.00198822, 0.00195216, 0.00193737, 0.00192103, 0.00191716,\n",
       "       0.00189802, 0.00187089, 0.00186536, 0.0018132 , 0.00180005,\n",
       "       0.00179194, 0.00178973, 0.0017695 , 0.00176158, 0.00174797,\n",
       "       0.00172985, 0.00172017, 0.00168727, 0.00168517, 0.00166842,\n",
       "       0.00164718, 0.00164575, 0.00164294, 0.00161486, 0.0016049 ,\n",
       "       0.00158912, 0.0015749 , 0.00155918, 0.00155638])"
      ]
     },
     "execution_count": 59,
     "metadata": {},
     "output_type": "execute_result"
    }
   ],
   "source": [
    "pca_80.explained_variance_ratio_"
   ]
  },
  {
   "cell_type": "markdown",
   "metadata": {},
   "source": [
    "Using base PCA model"
   ]
  },
  {
   "cell_type": "code",
   "execution_count": 60,
   "metadata": {},
   "outputs": [
    {
     "name": "stdout",
     "output_type": "stream",
     "text": [
      "svm_clf.fit took 0.121 secs\n",
      "ovr_clf.fit took 0.423 secs\n",
      "svm_clf.fit took 0.355 secs\n",
      "ovr_clf.fit took 1.463 secs\n",
      "svm_clf.fit took 1.349 secs\n",
      "ovr_clf.fit took 6.273 secs\n",
      "svm_clf.fit took 5.262 secs\n",
      "ovr_clf.fit took 21.706 secs\n",
      "svm_clf.fit took 9.050 secs\n",
      "ovr_clf.fit took 34.770 secs\n"
     ]
    }
   ],
   "source": [
    "for size in [1000, 2000, 4000, 8000, 10000]: #20000]:\n",
    "    with elapsed_timer() as svm_timer:\n",
    "        svm_clf.fit(reduced_pca[:size], y_train[:size])\n",
    "    print(f\"svm_clf.fit took {svm_timer():.3f} secs\")\n",
    "    with elapsed_timer() as ovr_timer:  # 300 seconds on my laptop\n",
    "        ovr_clf.fit(reduced_pca[:size], y_train[:size])\n",
    "    print(f\"ovr_clf.fit took {ovr_timer():.3f} secs\")\n",
    "    #sgd_clf.predict([some_digit])"
   ]
  },
  {
   "cell_type": "markdown",
   "metadata": {},
   "source": [
    "Using variance of 80%"
   ]
  },
  {
   "cell_type": "code",
   "execution_count": 61,
   "metadata": {},
   "outputs": [
    {
     "name": "stdout",
     "output_type": "stream",
     "text": [
      "svm_clf.fit took 0.077 secs\n",
      "ovr_clf.fit took 0.277 secs\n",
      "svm_clf.fit took 0.317 secs\n",
      "ovr_clf.fit took 0.860 secs\n",
      "svm_clf.fit took 1.168 secs\n",
      "ovr_clf.fit took 4.355 secs\n",
      "svm_clf.fit took 3.811 secs\n",
      "ovr_clf.fit took 15.265 secs\n",
      "svm_clf.fit took 5.384 secs\n",
      "ovr_clf.fit took 24.902 secs\n"
     ]
    }
   ],
   "source": [
    "for size in [1000, 2000, 4000, 8000, 10000]: #20000]:\n",
    "    with elapsed_timer() as svm_timer:\n",
    "        svm_clf.fit(reduced_pca80[:size], y_train[:size])\n",
    "    print(f\"svm_clf.fit took {svm_timer():.3f} secs\")\n",
    "    with elapsed_timer() as ovr_timer:  # 300 seconds on my laptop\n",
    "        ovr_clf.fit(reduced_pca80[:size], y_train[:size])\n",
    "    print(f\"ovr_clf.fit took {ovr_timer():.3f} secs\")"
   ]
  },
  {
   "cell_type": "markdown",
   "metadata": {},
   "source": [
    "Final Comparisons for small datasubset (ovr)"
   ]
  },
  {
   "cell_type": "code",
   "execution_count": 62,
   "metadata": {},
   "outputs": [
    {
     "data": {
      "text/plain": [
       "array([0.89562088, 0.92861428, 0.90816327])"
      ]
     },
     "execution_count": 62,
     "metadata": {},
     "output_type": "execute_result"
    }
   ],
   "source": [
    "cross_val_score(ovr_clf, X_train_scaled[:5000], y_train[:5000], cv=3, scoring=\"accuracy\") "
   ]
  },
  {
   "cell_type": "code",
   "execution_count": 63,
   "metadata": {},
   "outputs": [
    {
     "data": {
      "text/plain": [
       "array([0.91481704, 0.93941212, 0.92557023])"
      ]
     },
     "execution_count": 63,
     "metadata": {},
     "output_type": "execute_result"
    }
   ],
   "source": [
    "cross_val_score(ovr_clf, train_cropped[:5000], y_train[:5000], cv=3, scoring=\"accuracy\") "
   ]
  },
  {
   "cell_type": "code",
   "execution_count": 64,
   "metadata": {},
   "outputs": [
    {
     "data": {
      "text/plain": [
       "array([0.82543491, 0.85362927, 0.83133253])"
      ]
     },
     "execution_count": 64,
     "metadata": {},
     "output_type": "execute_result"
    }
   ],
   "source": [
    "cross_val_score(ovr_clf, filtered_train[:5000], y_train[:5000], cv=3, scoring=\"accuracy\") "
   ]
  },
  {
   "cell_type": "code",
   "execution_count": 66,
   "metadata": {},
   "outputs": [
    {
     "data": {
      "text/plain": [
       "array([0.89562088, 0.92861428, 0.90816327])"
      ]
     },
     "execution_count": 66,
     "metadata": {},
     "output_type": "execute_result"
    }
   ],
   "source": [
    "cross_val_score(ovr_clf, reduced_pca[:5000], y_train[:5000], cv=3, scoring=\"accuracy\") "
   ]
  },
  {
   "cell_type": "code",
   "execution_count": 65,
   "metadata": {},
   "outputs": [
    {
     "data": {
      "text/plain": [
       "array([0.8830234 , 0.93041392, 0.8877551 ])"
      ]
     },
     "execution_count": 65,
     "metadata": {},
     "output_type": "execute_result"
    }
   ],
   "source": [
    "cross_val_score(ovr_clf, reduced_pca80[:5000], y_train[:5000], cv=3, scoring=\"accuracy\") "
   ]
  },
  {
   "cell_type": "markdown",
   "metadata": {},
   "source": [
    "### Results:\n",
    "1. x_train_scaled: 20.4s, ~90%\n",
    "2. train_cropped: 12.3s, ~92%\n",
    "3. filtered_train: 3.2s, ~83%\n",
    "4. reduced_pca (default): ~20.6s, ~90%\n",
    "5. reduced_pca (80%): ~12.1s, ~89%"
   ]
  }
 ],
 "metadata": {
  "kernel_info": {
   "name": "python3"
  },
  "kernelspec": {
   "display_name": "Python 3",
   "language": "python",
   "name": "python3"
  },
  "language_info": {
   "codemirror_mode": {
    "name": "ipython",
    "version": 3
   },
   "file_extension": ".py",
   "mimetype": "text/x-python",
   "name": "python",
   "nbconvert_exporter": "python",
   "pygments_lexer": "ipython3",
   "version": "3.12.4"
  },
  "nav_menu": {},
  "nteract": {
   "version": "0.28.0"
  },
  "toc": {
   "navigate_menu": true,
   "number_sections": true,
   "sideBar": true,
   "threshold": 6,
   "toc_cell": false,
   "toc_section_display": "block",
   "toc_window_display": false
  }
 },
 "nbformat": 4,
 "nbformat_minor": 1
}
